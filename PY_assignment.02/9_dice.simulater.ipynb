{
 "cells": [
  {
   "cell_type": "code",
   "execution_count": 11,
   "metadata": {},
   "outputs": [],
   "source": [
    "import random\n",
    "\n",
    "class Dice:\n",
    "    def __init__(self):\n",
    "        self.sides = 6\n",
    "\n",
    "    def roll(self):\n",
    "        return random.randint(1, self.sides)"
   ]
  },
  {
   "cell_type": "code",
   "execution_count": 12,
   "metadata": {},
   "outputs": [],
   "source": [
    "# Example usage:\n",
    "dice = Dice()"
   ]
  },
  {
   "cell_type": "code",
   "execution_count": 13,
   "metadata": {},
   "outputs": [
    {
     "name": "stdout",
     "output_type": "stream",
     "text": [
      "Rolling the die... and result is: 5\n",
      "Rolling the die... and result is: 4\n",
      "Rolling the die... and result is: 2\n",
      "Rolling the die... and result is: 6\n",
      "Rolling the die... and result is: 1\n",
      "Rolling the die... and result is: 5\n"
     ]
    }
   ],
   "source": [
    "# rolling the die 6 times\n",
    "for _ in range(6):\n",
    "    result = dice.roll()\n",
    "    print(f\"Rolling the die... and result is: {result}\")"
   ]
  },
  {
   "cell_type": "code",
   "execution_count": null,
   "metadata": {},
   "outputs": [],
   "source": []
  }
 ],
 "metadata": {
  "kernelspec": {
   "display_name": "Python 3",
   "language": "python",
   "name": "python3"
  },
  "language_info": {
   "codemirror_mode": {
    "name": "ipython",
    "version": 3
   },
   "file_extension": ".py",
   "mimetype": "text/x-python",
   "name": "python",
   "nbconvert_exporter": "python",
   "pygments_lexer": "ipython3",
   "version": "3.11.5"
  }
 },
 "nbformat": 4,
 "nbformat_minor": 2
}
