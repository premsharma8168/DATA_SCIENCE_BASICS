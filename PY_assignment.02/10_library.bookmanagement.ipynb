{
 "cells": [
  {
   "cell_type": "code",
   "execution_count": 4,
   "metadata": {},
   "outputs": [],
   "source": [
    "class LibraryBook:\n",
    "    def __init__(self, title, author):\n",
    "\n",
    "        self.title = title\n",
    "        self.author = author\n",
    "        self.is_available = True\n",
    "\n",
    "    def borrow_book(self):\n",
    "\n",
    "        if self.is_available:\n",
    "            self.is_available = False\n",
    "            print(f\"{self.title} by {self.author} has been successfully borrowed.\")\n",
    "        else:\n",
    "            print(f\"Sorry, {self.title} by {self.author} is currently unavailable.\")\n",
    "\n",
    "    def return_book(self):\n",
    "\n",
    "        self.is_available = True\n",
    "        print(f\"{self.title} by {self.author} has been returned and is now available.\")\n",
    "\n",
    "    def __str__(self):\n",
    "\n",
    "        availability = \"Available\" if self.is_available else \"Unavailable\"\n",
    "        return f\"Title: {self.title}, Author: {self.author}, Status: {availability}\""
   ]
  },
  {
   "cell_type": "code",
   "execution_count": 6,
   "metadata": {},
   "outputs": [
    {
     "name": "stdout",
     "output_type": "stream",
     "text": [
      "Title: Concepts of Physics, Author: H.C. verma, Status: Available\n",
      "Concepts of Physics by H.C. verma has been successfully borrowed.\n",
      "Title: Concepts of Physics, Author: H.C. verma, Status: Unavailable\n",
      "Concepts of Physics by H.C. verma has been returned and is now available.\n",
      "Title: Concepts of Physics, Author: H.C. verma, Status: Available\n"
     ]
    }
   ],
   "source": [
    "# Example Usage\n",
    "book = LibraryBook(\"Concepts of Physics\", \"H.C. verma\")\n",
    "print(book)\n",
    "\n",
    "book.borrow_book()\n",
    "print(book)\n",
    "\n",
    "book.return_book()\n",
    "print(book)"
   ]
  }
 ],
 "metadata": {
  "kernelspec": {
   "display_name": "Python 3",
   "language": "python",
   "name": "python3"
  },
  "language_info": {
   "codemirror_mode": {
    "name": "ipython",
    "version": 3
   },
   "file_extension": ".py",
   "mimetype": "text/x-python",
   "name": "python",
   "nbconvert_exporter": "python",
   "pygments_lexer": "ipython3",
   "version": "3.11.5"
  }
 },
 "nbformat": 4,
 "nbformat_minor": 2
}
