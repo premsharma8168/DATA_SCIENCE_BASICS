{
 "cells": [
  {
   "cell_type": "markdown",
   "metadata": {},
   "source": [
    "# Indexing and slicing"
   ]
  },
  {
   "cell_type": "markdown",
   "metadata": {},
   "source": [
    "Indexing"
   ]
  },
  {
   "cell_type": "code",
   "execution_count": 2,
   "metadata": {},
   "outputs": [],
   "source": [
    "import numpy as np"
   ]
  },
  {
   "cell_type": "code",
   "execution_count": 3,
   "metadata": {},
   "outputs": [
    {
     "name": "stdout",
     "output_type": "stream",
     "text": [
      "54\n"
     ]
    }
   ],
   "source": [
    "var = np.array([9 , 6 , 54 , 3 , 3])\n",
    "print(var[2])"
   ]
  },
  {
   "cell_type": "code",
   "execution_count": 4,
   "metadata": {},
   "outputs": [
    {
     "name": "stdout",
     "output_type": "stream",
     "text": [
      "2\n",
      "[[1 2 3 4]\n",
      " [5 6 7 8]]\n",
      "3\n"
     ]
    }
   ],
   "source": [
    "var1 = np.array([[1 , 2 , 3 , 4] , [5 , 6 , 7 , 8]])    # dimension or axis of a numoynnmatrix is starts with 0 like lists that we also learned in previous semster\n",
    "print(var1.ndim)\n",
    "print(var1)\n",
    "print(var1[0 , 2])"
   ]
  },
  {
   "cell_type": "code",
   "execution_count": 5,
   "metadata": {},
   "outputs": [
    {
     "name": "stdout",
     "output_type": "stream",
     "text": [
      "[[[1 2]\n",
      "  [1 2]]]\n",
      "3\n",
      "\n",
      "[1 2]\n"
     ]
    }
   ],
   "source": [
    "var2 = np.array([[[1 , 2] , [1 , 2]]])\n",
    "\n",
    "print(var2)\n",
    "print(var2.ndim)\n",
    "print()\n",
    "print(var2[0 , 1])"
   ]
  },
  {
   "cell_type": "markdown",
   "metadata": {},
   "source": [
    "Slicing"
   ]
  },
  {
   "cell_type": "code",
   "execution_count": 6,
   "metadata": {},
   "outputs": [
    {
     "name": "stdout",
     "output_type": "stream",
     "text": [
      "[1 2 3 4 5 6 7 8 9]\n",
      "\n",
      "2st to 5st :  [2 3 4 5]\n",
      "1st to end :  [1 2 3 4 5 6 7 8 9]\n",
      "1st to 8st after 1-1 steps :  [1 3 5 7]\n",
      "[1 2 3 4 5 6 7 8 9]\n",
      "last to start point :  [1 3 5 7 9]\n"
     ]
    }
   ],
   "source": [
    "import numpy as np\n",
    "var = np.array([1 , 2 , 3 , 4 , 5 , 6 , 7 , 8 , 9])\n",
    "#               0 , 1 , 2 , 3 , 4 , 5 , 6 , 7 , 8\n",
    "print(var)\n",
    "print()\n",
    "print(\"2st to 5st : \" , var[1 : 5])   # first digit should be zero and last digit should not be included\n",
    "print(\"1st to end : \" , var[0 : ])  # when we does not write anything at end its mean the array should be print to the last element\n",
    "print(\"1st to 8st after 1-1 steps : \" , var[0 : 8 : 2])  # 3rd element is the step it should be minimum to hte element like when we write 2 its mean step is of 1 element\n",
    "print(var[::]) # when we print :: colon it should be print whole array\n",
    "print(\"last to start point : \" , var[::2]) # its return array from last to start and by step 1 - 1"
   ]
  },
  {
   "cell_type": "code",
   "execution_count": null,
   "metadata": {},
   "outputs": [],
   "source": []
  }
 ],
 "metadata": {
  "kernelspec": {
   "display_name": "Python 3",
   "language": "python",
   "name": "python3"
  },
  "language_info": {
   "codemirror_mode": {
    "name": "ipython",
    "version": 3
   },
   "file_extension": ".py",
   "mimetype": "text/x-python",
   "name": "python",
   "nbconvert_exporter": "python",
   "pygments_lexer": "ipython3",
   "version": "3.11.5"
  }
 },
 "nbformat": 4,
 "nbformat_minor": 2
}
