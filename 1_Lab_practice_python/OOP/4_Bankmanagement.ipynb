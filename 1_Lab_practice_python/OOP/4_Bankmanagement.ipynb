{
 "cells": [
  {
   "cell_type": "code",
   "execution_count": 3,
   "metadata": {},
   "outputs": [],
   "source": [
    "class Bank:\n",
    "    def __init__(self, account_holder, initial_balance=0):\n",
    "        self.account_holder = account_holder\n",
    "        self.balance = initial_balance\n",
    "\n",
    "    def deposit(self, amount):\n",
    "        if amount > 0:\n",
    "            self.balance += amount\n",
    "            print(f\"Deposited {amount} rupees . New balance: {self.balance} rupees\")\n",
    "        else:\n",
    "            print(\"Invalid deposit amount. Please enter a positive value.\")\n",
    "\n",
    "    def withdraw(self, amount):\n",
    "        if amount > 0 and amount <= self.balance:\n",
    "            self.balance -= amount\n",
    "            print(f\"Withdraw {amount} rupees . New balance: {self.balance} rupees\")\n",
    "        else:\n",
    "            print(\"Invalid withdrawal amount or insufficient funds.\")\n",
    "\n",
    "    def check_balance(self):\n",
    "        print(f\"Current balance for {self.account_holder}: {self.balance} rupees\")"
   ]
  },
  {
   "cell_type": "code",
   "execution_count": 4,
   "metadata": {},
   "outputs": [
    {
     "name": "stdout",
     "output_type": "stream",
     "text": [
      "Account created successfully!!!\n",
      "Current balance for prem: 0 rupees\n",
      "Deposited 456123 rupees . New balance: 456123 rupees\n",
      "Withdraw 45612 rupees . New balance: 410511 rupees\n",
      "Current balance for prem: 410511 rupees\n"
     ]
    }
   ],
   "source": [
    "# Example Usage for First Account:\n",
    "account1 = Bank(input(\"Enter First Account Holder name\"), initial_balance=0)\n",
    "print(\"Account created successfully!!!\")\n",
    "account1.check_balance()\n",
    "account1.deposit(int(input(\"Enter Amount you Want to Deposit in First Account.\")))\n",
    "account1.withdraw(int(input(\"Enter Amount you want to withdraw in First Account.\")))\n",
    "account1.check_balance()"
   ]
  },
  {
   "cell_type": "code",
   "execution_count": 5,
   "metadata": {},
   "outputs": [
    {
     "name": "stdout",
     "output_type": "stream",
     "text": [
      "Account created successfully!!!\n",
      "Current balance for tony stark: 0 rupees\n",
      "Deposited 456123 rupees . New balance: 456123 rupees\n",
      "Withdraw 45612 rupees . New balance: 410511 rupees\n",
      "Current balance for tony stark: 410511 rupees\n"
     ]
    }
   ],
   "source": [
    "# Example Usage for Second Account:\n",
    "account2 = Bank(input(\"Enter Second Account Holder name\"), initial_balance=0)\n",
    "print(\"Account created successfully!!!\")\n",
    "account2.check_balance()\n",
    "account2.deposit(int(input(\"Enter Amount you Want to Deposit in Second Account.\")))\n",
    "account2.withdraw(int(input(\"Enter Amount you want to withdraw in Second Account.\")))\n",
    "account2.check_balance()"
   ]
  },
  {
   "cell_type": "code",
   "execution_count": null,
   "metadata": {},
   "outputs": [],
   "source": []
  }
 ],
 "metadata": {
  "kernelspec": {
   "display_name": "Python 3",
   "language": "python",
   "name": "python3"
  },
  "language_info": {
   "codemirror_mode": {
    "name": "ipython",
    "version": 3
   },
   "file_extension": ".py",
   "mimetype": "text/x-python",
   "name": "python",
   "nbconvert_exporter": "python",
   "pygments_lexer": "ipython3",
   "version": "3.11.5"
  }
 },
 "nbformat": 4,
 "nbformat_minor": 2
}
