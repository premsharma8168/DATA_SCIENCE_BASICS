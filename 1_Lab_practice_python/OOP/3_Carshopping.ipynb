{
 "cells": [
  {
   "cell_type": "code",
   "execution_count": 19,
   "metadata": {},
   "outputs": [],
   "source": [
    "class car:\n",
    "    def __init__(self,maker,name,model,year,price):\n",
    "        self.maker = maker\n",
    "        self.name = name\n",
    "        self.model = model\n",
    "        self.year = year\n",
    "        self.price = price\n",
    "        self.available = True\n",
    "    def display_car(self):\n",
    "        return f'''\n",
    "        Maker: {self.maker}\n",
    "        Car Name: {self.name}\n",
    "        Model: {self.model}\n",
    "        Year: {self.year}\n",
    "        Price: {self.price}'''"
   ]
  },
  {
   "cell_type": "code",
   "execution_count": 20,
   "metadata": {},
   "outputs": [],
   "source": [
    "class dealership:\n",
    "    def __init__(self,dealer_name):\n",
    "        self.dealer_name = dealer_name\n",
    "        self.inventory = []\n",
    "    def add_car_to_inventory(self,car):\n",
    "        self.inventory.append(car)\n",
    "    def display_available_car(self):\n",
    "        count=1\n",
    "        for car in self.inventory:\n",
    "            if car.available:\n",
    "                print(count)\n",
    "                print(car.display_car())\n",
    "                print('-----------------------------\\n')\n",
    "                count+=1\n",
    "    def sell_car(self,c,index):\n",
    "        if 0 < index <=len(self.inventory) and self.inventory[index-1].available:\n",
    "            c.purchase(self.inventory[index-1])\n",
    "            return self.inventory[index-1]"
   ]
  },
  {
   "cell_type": "code",
   "execution_count": 21,
   "metadata": {},
   "outputs": [],
   "source": [
    "class customer:\n",
    "    def __init__(self,name):\n",
    "        self.name = name\n",
    "        self.purchased_car = []\n",
    "    def purchase(self, car):\n",
    "        self.purchased_car.append(car)\n",
    "        car.available = False"
   ]
  },
  {
   "cell_type": "code",
   "execution_count": 22,
   "metadata": {},
   "outputs": [],
   "source": [
    "# MAIN CODE\n",
    "car1 = car('Honda','HondaCity','S98',2018,15000000)\n",
    "car2 = car('Hyundai','Creta','KnightEdition',2023,20000000)\n",
    "car3 = car('Tata','Nano','zero',2012,114000)"
   ]
  },
  {
   "cell_type": "code",
   "execution_count": 23,
   "metadata": {},
   "outputs": [],
   "source": [
    "d1 = dealership('ABC Motors')\n",
    "d1.add_car_to_inventory(car1)\n",
    "d1.add_car_to_inventory(car2)\n",
    "d1.add_car_to_inventory(car3)"
   ]
  },
  {
   "cell_type": "code",
   "execution_count": 24,
   "metadata": {},
   "outputs": [
    {
     "name": "stdout",
     "output_type": "stream",
     "text": [
      "prem purchased Car\n",
      "\n",
      "        Maker: Hyundai\n",
      "        Car Name: Creta\n",
      "        Model: KnightEdition\n",
      "        Year: 2023\n",
      "        Price: 20000000\n",
      "\n",
      "\n",
      "After selling Display Available Cars\n",
      "1\n",
      "\n",
      "        Maker: Honda\n",
      "        Car Name: HondaCity\n",
      "        Model: S98\n",
      "        Year: 2018\n",
      "        Price: 15000000\n",
      "-----------------------------\n",
      "\n",
      "2\n",
      "\n",
      "        Maker: Tata\n",
      "        Car Name: Nano\n",
      "        Model: zero\n",
      "        Year: 2012\n",
      "        Price: 114000\n",
      "-----------------------------\n",
      "\n"
     ]
    }
   ],
   "source": [
    "c1 =customer(input(\"Enter Custumer Name\"))\n",
    "ret = d1.sell_car(c1,2)\n",
    "if ret:\n",
    "    print(f'{c1.name} purchased Car\\n{ret.display_car()}')\n",
    "else:\n",
    "    print('Not available for selling')\n",
    "print('\\n\\nAfter selling Display Available Cars')\n",
    "d1.display_available_car()"
   ]
  },
  {
   "cell_type": "code",
   "execution_count": null,
   "metadata": {},
   "outputs": [],
   "source": []
  }
 ],
 "metadata": {
  "kernelspec": {
   "display_name": "Python 3",
   "language": "python",
   "name": "python3"
  },
  "language_info": {
   "codemirror_mode": {
    "name": "ipython",
    "version": 3
   },
   "file_extension": ".py",
   "mimetype": "text/x-python",
   "name": "python",
   "nbconvert_exporter": "python",
   "pygments_lexer": "ipython3",
   "version": "3.11.5"
  }
 },
 "nbformat": 4,
 "nbformat_minor": 2
}
