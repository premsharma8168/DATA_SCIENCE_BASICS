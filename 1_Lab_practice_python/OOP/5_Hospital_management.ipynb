{
 "cells": [
  {
   "cell_type": "code",
   "execution_count": 8,
   "metadata": {},
   "outputs": [
    {
     "name": "stdout",
     "output_type": "stream",
     "text": [
      "{'doctor_id': 4515, 'doctor_name': 'Manish', 'doctor_Specialisation': 'Neuro_Surgeon'}\n"
     ]
    }
   ],
   "source": [
    "# hospital management system\n",
    "class Patient:\n",
    "    def __init__(self,PatientID,PatientName,PatientAge,PatientContact):\n",
    "        self.__PatientID = PatientID\n",
    "        self.__PatientName = PatientName\n",
    "        self.__PatientAge = PatientAge\n",
    "        self.__PatientContact = PatientContact\n",
    "    def getDetails(self):\n",
    "        return {\n",
    "            'PatientID': self.__PatientID,\n",
    "            'PatientName': self.__PatientName,\n",
    "            'PatientAge': self.__PatientAge,\n",
    "            'PatientContact': self.__PatientContact\n",
    "        }\n",
    "        \n",
    "class Doctor:\n",
    "    def __init__(self,id, name, Specialization):\n",
    "        self.__id = id\n",
    "        self.__name = name\n",
    "        self.__Specialisation = Specialization\n",
    "    def get_doctor_details(self):\n",
    "       return{\n",
    "           'doctor_id' : self.__id,\n",
    "        'doctor_name' : self.__name,\n",
    "        'doctor_Specialisation' : self.__Specialisation\n",
    "    }\n",
    "class MedicalReport:\n",
    "    def __init__(self):\n",
    "        self.__records = {}\n",
    "\n",
    "    def AddRecords(self, Patient, doctor, diagnosys, medication):\n",
    "        self.__records[Patient.getDetails()['PatientID']] = {\n",
    "\n",
    "            'Patient': Patient.getDetails(),\n",
    "            'Doctor': doctor.get_doctor_details(),\n",
    "            'Diagnosys': diagnosys,\n",
    "            'Medication': medication\n",
    "        }\n",
    "    \n",
    "    def getRecords(self):\n",
    "        return self.__records\n",
    "\n",
    "\n",
    "# main code \n",
    "p1 = Patient('Fortis_23','Prem',18,'+919068515580')\n",
    "p2 = Patient('Fortis_14','Tony Stark',28,'+9199996851980')\n",
    "d1 = Doctor(4515,'Manish','Neuro_Surgeon')\n",
    "d2 = Doctor(4516,'Jay','Heart_Surgeon')\n",
    "\n",
    "res = MedicalReport()\n",
    "res.AddRecords(p1, d1, 'heart Problem', 'asprin')\n",
    "print(res.getRecords()['Fortis_23']['Doctor'])                                   "
   ]
  }
 ],
 "metadata": {
  "kernelspec": {
   "display_name": "Python 3",
   "language": "python",
   "name": "python3"
  },
  "language_info": {
   "codemirror_mode": {
    "name": "ipython",
    "version": 3
   },
   "file_extension": ".py",
   "mimetype": "text/x-python",
   "name": "python",
   "nbconvert_exporter": "python",
   "pygments_lexer": "ipython3",
   "version": "3.11.5"
  }
 },
 "nbformat": 4,
 "nbformat_minor": 2
}
