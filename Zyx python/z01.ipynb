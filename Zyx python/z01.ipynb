{
 "cells": [
  {
   "cell_type": "code",
   "execution_count": 32,
   "metadata": {},
   "outputs": [
    {
     "name": "stdout",
     "output_type": "stream",
     "text": [
      "[-10.  -8.   4.   3.   2.   1.]\n"
     ]
    }
   ],
   "source": [
    "# TASK -----1\n",
    "\n",
    "import numpy as np\n",
    "\n",
    "def arrays(arr):\n",
    "    return np.array(arr[::-1],float)\n",
    "\n",
    "arr = input().strip().split(' ')\n",
    "result = arrays(arr)\n",
    "print(result)"
   ]
  },
  {
   "cell_type": "code",
   "execution_count": 41,
   "metadata": {},
   "outputs": [
    {
     "name": "stdout",
     "output_type": "stream",
     "text": [
      "[[1 2 3]\n",
      " [4 5 6]\n",
      " [7 8 9]]\n"
     ]
    }
   ],
   "source": [
    "# TASK0----2\n",
    "\n",
    "import numpy as np\n",
    "\n",
    "class NumpyArray:\n",
    "    def __init__(self, lst, r=0, c=0):\n",
    "        if r != 0 and c != 0:\n",
    "            self.lst = np.array(lst).reshape(r, c)\n",
    "        else:\n",
    "            self.lst = np.array(lst)\n",
    "\n",
    "    def disp_mat(self):\n",
    "        print(self.lst)\n",
    "\n",
    "lst1 = list(map(eval, input('Enter the elements for matrix---1: ').split()))\n",
    "r1, c1 = list(map(eval, input('Enter the dimension for matrix---1::(m * n)').split()))\n",
    "arr1 = NumpyArray(lst1, r1, c1)\n",
    "arr1.disp_mat()"
   ]
  },
  {
   "cell_type": "code",
   "execution_count": 49,
   "metadata": {},
   "outputs": [
    {
     "name": "stdout",
     "output_type": "stream",
     "text": [
      "[[1. 0. 0.]\n",
      " [0. 1. 0.]\n",
      " [0. 0. 1.]]\n"
     ]
    }
   ],
   "source": [
    "# TASK----3\n",
    "\n",
    "import numpy\n",
    "\n",
    "def main_diagonal(n, m):\n",
    "    arr = numpy.zeros((n, m))\n",
    "    arr[range(n), range(m)] = 1\n",
    "    return arr\n",
    "    \n",
    "n, m = map(int, input().strip().split(' '))\n",
    "result = main_diagonal(n, m)\n",
    "print(result)"
   ]
  },
  {
   "cell_type": "code",
   "execution_count": null,
   "metadata": {},
   "outputs": [],
   "source": []
  }
 ],
 "metadata": {
  "kernelspec": {
   "display_name": "Python 3",
   "language": "python",
   "name": "python3"
  },
  "language_info": {
   "codemirror_mode": {
    "name": "ipython",
    "version": 3
   },
   "file_extension": ".py",
   "mimetype": "text/x-python",
   "name": "python",
   "nbconvert_exporter": "python",
   "pygments_lexer": "ipython3",
   "version": "3.11.5"
  }
 },
 "nbformat": 4,
 "nbformat_minor": 2
}
