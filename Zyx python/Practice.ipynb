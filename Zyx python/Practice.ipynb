{
 "cells": [
  {
   "cell_type": "code",
   "execution_count": 3,
   "metadata": {},
   "outputs": [
    {
     "name": "stdout",
     "output_type": "stream",
     "text": [
      "{'a': 10, 'b': 20}\n",
      "object\n",
      "<class 'numpy.ndarray'>\n"
     ]
    }
   ],
   "source": [
    "import numpy as np\n",
    "\n",
    "arr = np.array({'a' : 10 , 'b' : 20})\n",
    "print(arr)\n",
    "print(arr.dtype)\n",
    "print(type(arr))\n"
   ]
  },
  {
   "cell_type": "code",
   "execution_count": 4,
   "metadata": {},
   "outputs": [
    {
     "name": "stdout",
     "output_type": "stream",
     "text": [
      "Original array:\n",
      " [[ 1  2  3  4]\n",
      " [ 5  6  7  8]\n",
      " [ 9 10 11 12]]\n"
     ]
    }
   ],
   "source": [
    "# ndarray operation\n",
    "\n",
    "arr = np.arange(1 , 13).reshape(3 , 4)\n",
    "print(\"Original array:\\n\", arr)"
   ]
  },
  {
   "cell_type": "code",
   "execution_count": 20,
   "metadata": {},
   "outputs": [
    {
     "name": "stdout",
     "output_type": "stream",
     "text": [
      "[15 18 21 24]\n",
      "[ 9 10 11 12]\n"
     ]
    }
   ],
   "source": [
    "# sum\n",
    "out1 = np.sum(arr, axis=0)#SUM     #0 ->> x-axis , 1 ->> y-axis\n",
    "out2 = np.max(arr, axis=0)#MAXIMUM\n",
    "print(out1)\n",
    "print(out2)"
   ]
  },
  {
   "cell_type": "code",
   "execution_count": 22,
   "metadata": {},
   "outputs": [
    {
     "name": "stdout",
     "output_type": "stream",
     "text": [
      "4\n"
     ]
    }
   ],
   "source": [
    "a =  3.523\n",
    "# priority to even number.\n",
    "out = round(a)\n",
    "print(out)"
   ]
  },
  {
   "cell_type": "code",
   "execution_count": 31,
   "metadata": {},
   "outputs": [
    {
     "name": "stdout",
     "output_type": "stream",
     "text": [
      "[4. 2. 1.]\n",
      "[4. 3. 2.]\n",
      "[3. 2. 1.]\n"
     ]
    }
   ],
   "source": [
    "a = np.array([3.5 , 2.23 , 1.009])\n",
    "\n",
    "out3 = np.round(a)\n",
    "print(out3)\n",
    "\n",
    "out4 = np.ceil(a) #for ceiling\n",
    "print(out4)\n",
    "\n",
    "out5= np.floor(a)#for floor\n",
    "print(out5)"
   ]
  },
  {
   "cell_type": "code",
   "execution_count": 35,
   "metadata": {},
   "outputs": [
    {
     "data": {
      "text/plain": [
       "array([[1., 1., 1.],\n",
       "       [1., 1., 1.],\n",
       "       [1., 1., 1.]])"
      ]
     },
     "execution_count": 35,
     "metadata": {},
     "output_type": "execute_result"
    }
   ],
   "source": [
    "np.ones((3 , 3))"
   ]
  },
  {
   "cell_type": "code",
   "execution_count": 52,
   "metadata": {},
   "outputs": [
    {
     "name": "stdout",
     "output_type": "stream",
     "text": [
      "[[9.73996537e-312 2.81617418e-322 1.20953760e-312 1.31370903e-076\n",
      "  6.50597670e-091]\n",
      " [5.15436255e-062 8.26112229e-072 2.17570565e-076 6.48224659e+170\n",
      "  4.93432906e+257]]\n"
     ]
    }
   ],
   "source": [
    "print(np.empty((2 , 5)))"
   ]
  },
  {
   "cell_type": "code",
   "execution_count": 54,
   "metadata": {},
   "outputs": [
    {
     "name": "stdout",
     "output_type": "stream",
     "text": [
      "Transpose of the matrix:\n",
      "[[1 3]\n",
      " [2 4]]\n",
      "------------------------------------------------------\n",
      "Flattened matrix:\n",
      "[1 2 3 4]\n"
     ]
    }
   ],
   "source": [
    "# TASK----5\n",
    "import numpy as np\n",
    "N, M = map(int, input('Enter the Dimension N * M').split())\n",
    "matrix = np.array([list(map(int, input('Take input for Number').split())) for _ in range(N)])\n",
    "\n",
    "\n",
    "print(\"Transpose of the matrix:\")\n",
    "print(matrix.T)\n",
    "\n",
    "\n",
    "print('------------------------------------------------------')\n",
    "\n",
    "\n",
    "print(\"Flattened matrix:\")\n",
    "print(matrix.flatten())"
   ]
  },
  {
   "cell_type": "code",
   "execution_count": null,
   "metadata": {},
   "outputs": [],
   "source": []
  }
 ],
 "metadata": {
  "kernelspec": {
   "display_name": "Python 3",
   "language": "python",
   "name": "python3"
  },
  "language_info": {
   "codemirror_mode": {
    "name": "ipython",
    "version": 3
   },
   "file_extension": ".py",
   "mimetype": "text/x-python",
   "name": "python",
   "nbconvert_exporter": "python",
   "pygments_lexer": "ipython3",
   "version": "3.11.5"
  }
 },
 "nbformat": 4,
 "nbformat_minor": 2
}
