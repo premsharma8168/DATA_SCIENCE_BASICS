{
 "cells": [
  {
   "cell_type": "markdown",
   "metadata": {},
   "source": [
    "# The memory size\n",
    "We mentioned how to find the number of elements in the array. There is another attribute of the array, ndarray.itemsize, which will return the length of one array element in bytes. Complete the memory_size function which accepts a NumPy array as the argument and returns the memory size of an array(in bytes)."
   ]
  },
  {
   "cell_type": "code",
   "execution_count": null,
   "metadata": {},
   "outputs": [],
   "source": [
    "import numpy as np\n",
    "\n",
    "def memory_size(array):\n",
    "    return array.size * array.itemsize\n",
    "    a = np.array([1, 2, 3, 4, 5])\n",
    "    mem_size = memory_size(a)\n",
    "    print(mem_size)\n"
   ]
  },
  {
   "cell_type": "code",
   "execution_count": null,
   "metadata": {},
   "outputs": [],
   "source": []
  }
 ],
 "metadata": {
  "kernelspec": {
   "display_name": "Python 3",
   "language": "python",
   "name": "python3"
  },
  "language_info": {
   "codemirror_mode": {
    "name": "ipython",
    "version": 3
   },
   "file_extension": ".py",
   "mimetype": "text/x-python",
   "name": "python",
   "nbconvert_exporter": "python",
   "pygments_lexer": "ipython3",
   "version": "3.11.5"
  }
 },
 "nbformat": 4,
 "nbformat_minor": 2
}
