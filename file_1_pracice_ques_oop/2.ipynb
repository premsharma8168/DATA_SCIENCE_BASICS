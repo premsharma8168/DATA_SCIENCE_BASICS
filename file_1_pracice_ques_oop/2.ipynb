{
 "cells": [
  {
   "cell_type": "code",
   "execution_count": 1,
   "metadata": {},
   "outputs": [],
   "source": [
    "class Student:\n",
    "    def __init__(self):\n",
    "        self.name='NA'\n",
    "        self.age='NA'\n",
    "        self.grade='NA'\n",
    "\n",
    "    def Set_details(self,name,age,grade):\n",
    "        self.name=name\n",
    "        self.age=age\n",
    "        self.grade=grade\n",
    "\n",
    "    def get_details(self):\n",
    "        return f'''\n",
    "        name:{self.name}\n",
    "        age:{self.age}\n",
    "        grade:{self.grade}'''"
   ]
  },
  {
   "cell_type": "code",
   "execution_count": 2,
   "metadata": {},
   "outputs": [],
   "source": [
    "student1=Student()\n",
    "student1.Set_details(\"Prem\",18,'O')\n",
    "obj1=student1.get_details()\n",
    "student2=Student()\n",
    "student2.Set_details(\"Tony Stark\",28,'A+')\n",
    "obj2=student2.get_details()"
   ]
  },
  {
   "cell_type": "code",
   "execution_count": 3,
   "metadata": {},
   "outputs": [
    {
     "name": "stdout",
     "output_type": "stream",
     "text": [
      "\n",
      "        name:Prem\n",
      "        age:18\n",
      "        grade:O\n",
      "-----------------------\n",
      "\n",
      "        name:Tony Stark\n",
      "        age:28\n",
      "        grade:A+\n"
     ]
    }
   ],
   "source": [
    "print(obj1)\n",
    "print(\"-----------------------\")\n",
    "print(obj2)"
   ]
  },
  {
   "cell_type": "code",
   "execution_count": null,
   "metadata": {},
   "outputs": [],
   "source": []
  }
 ],
 "metadata": {
  "kernelspec": {
   "display_name": "Python 3",
   "language": "python",
   "name": "python3"
  },
  "language_info": {
   "codemirror_mode": {
    "name": "ipython",
    "version": 3
   },
   "file_extension": ".py",
   "mimetype": "text/x-python",
   "name": "python",
   "nbconvert_exporter": "python",
   "pygments_lexer": "ipython3",
   "version": "3.11.5"
  }
 },
 "nbformat": 4,
 "nbformat_minor": 2
}
