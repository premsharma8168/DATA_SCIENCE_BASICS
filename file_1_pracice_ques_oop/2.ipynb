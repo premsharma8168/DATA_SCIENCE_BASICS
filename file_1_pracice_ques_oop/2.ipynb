{
 "cells": [
  {
   "cell_type": "code",
   "execution_count": null,
   "metadata": {},
   "outputs": [],
   "source": [
    "# Question 2: \n",
    "# Create a class Student with attributes name, age, and grade. Implement a method to \n",
    "# display the student details. Create instances of the Student class and display their details."
   ]
  },
  {
   "cell_type": "code",
   "execution_count": 12,
   "metadata": {},
   "outputs": [],
   "source": [
    "class Student:\n",
    "    def __init__(self):\n",
    "        self.name='NA'\n",
    "        self.age='NA'\n",
    "        self.grade='NA'\n",
    "\n",
    "    def Set_details(self,name,age,grade):\n",
    "        self.name=name\n",
    "        self.age=age\n",
    "        self.grade=grade\n",
    "\n",
    "    def get_details(self):\n",
    "        return f'''\n",
    "        name:{self.name}\n",
    "        age:{self.age}\n",
    "        grade:{self.grade}\n",
    "        '''"
   ]
  },
  {
   "cell_type": "code",
   "execution_count": 13,
   "metadata": {},
   "outputs": [
    {
     "name": "stdout",
     "output_type": "stream",
     "text": [
      "\n",
      "        name:Prem Sharma\n",
      "        age:18\n",
      "        grade:76\n",
      "        \n",
      "-----------------------\n",
      "\n",
      "        name:Tony Stark\n",
      "        age:28\n",
      "        grade:92\n",
      "        \n"
     ]
    }
   ],
   "source": [
    "student1=Student()\n",
    "student1.Set_details(input('Enter your Name') , int(input('Enter your Age')) , eval(input('Enter your percentage for Enquery')))\n",
    "print(student1.get_details())\n",
    "print(\"-----------------------\")\n",
    "student2=Student()\n",
    "student2.Set_details(input('Enter your Name') , int(input('Enter your Age')) , eval(input('Enter your percentage for Enquery')))\n",
    "print(student2.get_details())"
   ]
  },
  {
   "cell_type": "code",
   "execution_count": null,
   "metadata": {},
   "outputs": [],
   "source": []
  }
 ],
 "metadata": {
  "kernelspec": {
   "display_name": "Python 3",
   "language": "python",
   "name": "python3"
  },
  "language_info": {
   "codemirror_mode": {
    "name": "ipython",
    "version": 3
   },
   "file_extension": ".py",
   "mimetype": "text/x-python",
   "name": "python",
   "nbconvert_exporter": "python",
   "pygments_lexer": "ipython3",
   "version": "3.11.5"
  }
 },
 "nbformat": 4,
 "nbformat_minor": 2
}
