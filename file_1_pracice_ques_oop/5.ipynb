{
 "cells": [
  {
   "cell_type": "code",
   "execution_count": 13,
   "metadata": {},
   "outputs": [],
   "source": [
    "class Bank:\n",
    "    def __init__(self, account_holder, initial_balance=0):\n",
    "        self.account_holder = account_holder\n",
    "        self.balance = initial_balance\n",
    "\n",
    "    def deposit(self, amount):\n",
    "        if amount > 0:\n",
    "            self.balance += amount\n",
    "            print(f\"Deposited {amount} rupees . New balance: {self.balance} rupees\")\n",
    "        else:\n",
    "            print(\"Invalid deposit amount. Please enter a positive value.\")\n",
    "\n",
    "    def withdraw(self, amount):\n",
    "        if amount > 0 and amount <= self.balance:\n",
    "            self.balance -= amount\n",
    "            print(f\"Withdraw {amount} rupees . New balance: {self.balance} rupees\")\n",
    "        else:\n",
    "            print(\"Invalid withdrawal amount or insufficient funds.\")\n",
    "\n",
    "    def check_balance(self):\n",
    "        print(f\"Current balance for {self.account_holder}: {self.balance} rupees\")"
   ]
  },
  {
   "cell_type": "code",
   "execution_count": 14,
   "metadata": {},
   "outputs": [
    {
     "name": "stdout",
     "output_type": "stream",
     "text": [
      "Account created successfully!!!\n",
      "Current balance for Prem Sharma: 0 rupees\n",
      "Deposited 70000 rupees . New balance: 70000 rupees\n",
      "Withdraw 45000 rupees . New balance: 25000 rupees\n",
      "Current balance for Prem Sharma: 25000 rupees\n"
     ]
    }
   ],
   "source": [
    "# Example Usage for First Account:\n",
    "account1 = Bank(input(\"Enter First Account Holder name\"), initial_balance=0)\n",
    "print(\"Account created successfully!!!\")\n",
    "account1.check_balance()\n",
    "account1.deposit(int(input(\"Enter Amount you Want to Deposit in First Account.\")))\n",
    "account1.withdraw(int(input(\"Enter Amount you want to withdraw in First Account.\")))\n",
    "account1.check_balance()"
   ]
  },
  {
   "cell_type": "code",
   "execution_count": 15,
   "metadata": {},
   "outputs": [
    {
     "name": "stdout",
     "output_type": "stream",
     "text": [
      "Account created successfully!!!\n",
      "Current balance for Manish kumar: 0 rupees\n",
      "Deposited 80000 rupees . New balance: 80000 rupees\n",
      "Withdraw 75000 rupees . New balance: 5000 rupees\n",
      "Current balance for Manish kumar: 5000 rupees\n"
     ]
    }
   ],
   "source": [
    "# Example Usage for Second Account:\n",
    "account2 = Bank(input(\"Enter Second Account Holder name\"), initial_balance=0)\n",
    "print(\"Account created successfully!!!\")\n",
    "account2.check_balance()\n",
    "account2.deposit(int(input(\"Enter Amount you Want to Deposit in Second Account.\")))\n",
    "account2.withdraw(int(input(\"Enter Amount you want to withdraw in Second Account.\")))\n",
    "account2.check_balance()"
   ]
  },
  {
   "cell_type": "code",
   "execution_count": 16,
   "metadata": {},
   "outputs": [
    {
     "name": "stdout",
     "output_type": "stream",
     "text": [
      "Account created successfully!!!\n",
      "Current balance for Tony Stark: 0 rupees\n",
      "Deposited 700000 rupees . New balance: 700000 rupees\n",
      "Withdraw 690000 rupees . New balance: 10000 rupees\n",
      "Current balance for Tony Stark: 10000 rupees\n"
     ]
    }
   ],
   "source": [
    "# Example Usage for Third Account:\n",
    "account3 = Bank(input(\"Enter Third Account Holder name\"), initial_balance=0)\n",
    "print(\"Account created successfully!!!\")\n",
    "account3.check_balance()\n",
    "account3.deposit(int(input(\"Enter Amount you Want to Deposit in Third Account.\")))\n",
    "account3.withdraw(int(input(\"Enter Amount you want to withdraw in Third Account.\")))\n",
    "account3.check_balance()"
   ]
  },
  {
   "cell_type": "code",
   "execution_count": 19,
   "metadata": {},
   "outputs": [
    {
     "name": "stdout",
     "output_type": "stream",
     "text": [
      "Account created successfully!!!\n",
      "Current balance for Manish Bharadwaj: 0 rupees\n",
      "Deposited 90000 rupees . New balance: 90000 rupees\n",
      "Withdraw 75000 rupees . New balance: 15000 rupees\n",
      "Current balance for Manish Bharadwaj: 15000 rupees\n"
     ]
    }
   ],
   "source": [
    "# Example Usage for Fourth Account:\n",
    "account4 = Bank(input(\"Enter Fourth Account Holder name\"), initial_balance=0)\n",
    "print(\"Account created successfully!!!\")\n",
    "account4.check_balance()\n",
    "account4.deposit(int(input(\"Enter Amount you Want to Deposit in Fourth Account.\")))\n",
    "account4.withdraw(int(input(\"Enter Amount you want to withdraw in Fourth Account.\")))\n",
    "account4.check_balance()"
   ]
  }
 ],
 "metadata": {
  "kernelspec": {
   "display_name": "Python 3",
   "language": "python",
   "name": "python3"
  },
  "language_info": {
   "codemirror_mode": {
    "name": "ipython",
    "version": 3
   },
   "file_extension": ".py",
   "mimetype": "text/x-python",
   "name": "python",
   "nbconvert_exporter": "python",
   "pygments_lexer": "ipython3",
   "version": "3.11.5"
  }
 },
 "nbformat": 4,
 "nbformat_minor": 2
}
