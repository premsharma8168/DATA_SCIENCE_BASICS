{
 "cells": [
  {
   "cell_type": "code",
   "execution_count": 1,
   "metadata": {},
   "outputs": [],
   "source": [
    "class shape:\n",
    "    def __init__(self , side1 , side2):\n",
    "        self.side1 = side1\n",
    "        self.side2 = side2\n",
    "\n",
    "    def area(self):\n",
    "        return self.side1 * self.side2\n",
    "    \n",
    "    def perimeter(self):\n",
    "        return (self.side1 + self.side2) * 2"
   ]
  },
  {
   "cell_type": "code",
   "execution_count": 2,
   "metadata": {},
   "outputs": [],
   "source": [
    "class Rectangle(shape):\n",
    "    def __int__(self , length , breadth):\n",
    "        super.__init__(length , breadth)"
   ]
  },
  {
   "cell_type": "code",
   "execution_count": 3,
   "metadata": {},
   "outputs": [],
   "source": [
    "class Rectangle:\n",
    "    def __init__(self , length , breadth):\n",
    "        self.length = length\n",
    "        self.breadth = breadth\n",
    "\n",
    "\n",
    "    def area(self):\n",
    "        return self.length * self.breadth\n",
    "    \n",
    "\n",
    "    def perimeter(self):\n",
    "        return (self.length + self.breadth)*2\n",
    "    "
   ]
  },
  {
   "cell_type": "code",
   "execution_count": 4,
   "metadata": {},
   "outputs": [
    {
     "name": "stdout",
     "output_type": "stream",
     "text": [
      "Area of Rectangle of given length: 78 and breadth: 79 is : 6162\n",
      "perimeter of Rectangle of given length: 78 and breadth: 79 is : 314\n"
     ]
    }
   ],
   "source": [
    "l=int(input(\"Enter the first number\"))\n",
    "b=int(input(\"Enter the second number\"))\n",
    "rect = Rectangle(l,b)\n",
    "area = rect.area()\n",
    "perimeter = rect.perimeter()\n",
    "print(f'Area of Rectangle of given length: {l} and breadth: {b} is : {area}')\n",
    "print(f'perimeter of Rectangle of given length: {l} and breadth: {b} is : {perimeter}')"
   ]
  },
  {
   "cell_type": "code",
   "execution_count": null,
   "metadata": {},
   "outputs": [],
   "source": []
  }
 ],
 "metadata": {
  "kernelspec": {
   "display_name": "Python 3",
   "language": "python",
   "name": "python3"
  },
  "language_info": {
   "codemirror_mode": {
    "name": "ipython",
    "version": 3
   },
   "file_extension": ".py",
   "mimetype": "text/x-python",
   "name": "python",
   "nbconvert_exporter": "python",
   "pygments_lexer": "ipython3",
   "version": "3.11.5"
  }
 },
 "nbformat": 4,
 "nbformat_minor": 2
}
