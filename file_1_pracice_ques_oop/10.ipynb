{
 "cells": [
  {
   "cell_type": "code",
   "execution_count": 28,
   "metadata": {},
   "outputs": [],
   "source": [
    "# Question 10: \n",
    "# Implement a class BankAccount with attributes account_number, account_holder, and \n",
    "# balance. Create a derived class SavingsAccount that adds an attribute for the interest rate. \n",
    "# Implement methods for deposit, withdraw, and calculate interest in the SavingsAccount \n",
    "# class."
   ]
  },
  {
   "cell_type": "code",
   "execution_count": 29,
   "metadata": {},
   "outputs": [],
   "source": [
    "class BankAccount:\n",
    "    def __init__(self, account_number, account_holder, initial_balance=0):\n",
    "        self.account_number = account_number\n",
    "        self.account_holder = account_holder\n",
    "        self.balance = initial_balance\n",
    "\n",
    "    def deposit(self, amount):\n",
    "        if amount > 0:\n",
    "            self.balance += amount\n",
    "            return f\"Deposited: {amount} rupees. New Balance: {self.balance} rupees.\"\n",
    "        else:\n",
    "            return \"Invalid Deposit Amount. Please Enter a Positive Value.\"\n",
    "\n",
    "    def withdraw(self, amount):\n",
    "        if amount > 0 and amount <= self.balance:\n",
    "            self.balance -= amount\n",
    "            return f\"Withdrew {amount} rupees. New Balance: {self.balance} rupees.\"\n",
    "        else:\n",
    "            return \"Invalid withdrawal amount or insufficient funds.\"\n",
    "\n",
    "    def check_balance(self):\n",
    "        return f\"Current Balance of {self.account_holder} is: {self.balance} rupees.\"\n",
    "\n"
   ]
  },
  {
   "cell_type": "code",
   "execution_count": 30,
   "metadata": {},
   "outputs": [],
   "source": [
    "class SavingsAccount(BankAccount):\n",
    "    def __init__(self, account_number, account_holder, balance, interest_rate):\n",
    "        super().__init__(account_number, account_holder, balance)\n",
    "        self.interest_rate = interest_rate\n",
    "\n",
    "    def calculate_interest(self):\n",
    "        interest = self.balance * self.interest_rate\n",
    "        self.balance += interest"
   ]
  },
  {
   "cell_type": "code",
   "execution_count": 31,
   "metadata": {},
   "outputs": [
    {
     "name": "stdout",
     "output_type": "stream",
     "text": [
      "Account created successfully!!!\n",
      "--------------------------------------------------------------------\n",
      "Current Balance of PREM SHARMA is: 1000 rupees.\n",
      "--------------------------------------------------------------------\n",
      "Deposited: 500 rupees. New Balance: 1500 rupees.\n",
      "--------------------------------------------------------------------\n",
      "Withdrew 200 rupees. New Balance: 1300 rupees.\n",
      "--------------------------------------------------------------------\n",
      "Current Balance of PREM SHARMA is: 1300 rupees.\n",
      "--------------------------------------------------------------------\n",
      "Interest earned: -135.0 rupees.\n",
      "Current Balance of PREM SHARMA is: 1365.0 rupees.\n",
      "--------------------------------------------------------------------\n"
     ]
    }
   ],
   "source": [
    "# Example Usage for Account:\n",
    "print(\"Account created successfully!!!\")\n",
    "savings_account = SavingsAccount(12345, \"PREM SHARMA\", 1000, 0.05)  # Set initial interest rate\n",
    "\n",
    "print(\"--------------------------------------------------------------------\")\n",
    "print(savings_account.check_balance())\n",
    "print(\"--------------------------------------------------------------------\")\n",
    "print(savings_account.deposit(500))\n",
    "print(\"--------------------------------------------------------------------\")\n",
    "print(savings_account.withdraw(200))\n",
    "print(\"--------------------------------------------------------------------\")\n",
    "print(savings_account.check_balance())\n",
    "print(\"--------------------------------------------------------------------\")\n",
    "\n",
    "# Calculate and add interest after all transactions\n",
    "savings_account.calculate_interest()\n",
    "print(f\"Interest earned: {savings_account.balance - 1500} rupees.\")  # Calculate interest earned\n",
    "print(savings_account.check_balance())\n",
    "print(\"--------------------------------------------------------------------\")"
   ]
  }
 ],
 "metadata": {
  "kernelspec": {
   "display_name": "Python 3",
   "language": "python",
   "name": "python3"
  },
  "language_info": {
   "codemirror_mode": {
    "name": "ipython",
    "version": 3
   },
   "file_extension": ".py",
   "mimetype": "text/x-python",
   "name": "python",
   "nbconvert_exporter": "python",
   "pygments_lexer": "ipython3",
   "version": "3.11.5"
  }
 },
 "nbformat": 4,
 "nbformat_minor": 2
}
