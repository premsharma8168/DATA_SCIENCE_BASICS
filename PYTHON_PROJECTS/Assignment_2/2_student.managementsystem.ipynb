{
 "cells": [
  {
   "cell_type": "code",
   "execution_count": 2,
   "metadata": {},
   "outputs": [],
   "source": [
    "class Student:\n",
    "    def __init__(self,name,roll_no,course,branch):\n",
    "        self.name=name\n",
    "        self.roll_no=roll_no\n",
    "        self.course=course\n",
    "        self.branch=branch\n",
    "    def getDetails(self):\n",
    "        print(f'''Name : {self.name}\\nRoll No. : {self.roll_no}\\nCourse : {self.course}\\nBranch : {self.branch}''')\n",
    "Student1=Student(\"Prem Narayan Sharma\",\"2315510150\",\"B-Tech\",\"CSE(AIML & IOT)\")"
   ]
  },
  {
   "cell_type": "code",
   "execution_count": 3,
   "metadata": {},
   "outputs": [
    {
     "name": "stdout",
     "output_type": "stream",
     "text": [
      "Name : Prem Narayan Sharma\n",
      "Roll No. : 2315510150\n",
      "Course : B-Tech\n",
      "Branch : CSE(AIML & IOT)\n"
     ]
    }
   ],
   "source": [
    "Student1.getDetails()"
   ]
  }
 ],
 "metadata": {
  "kernelspec": {
   "display_name": "Python 3",
   "language": "python",
   "name": "python3"
  },
  "language_info": {
   "codemirror_mode": {
    "name": "ipython",
    "version": 3
   },
   "file_extension": ".py",
   "mimetype": "text/x-python",
   "name": "python",
   "nbconvert_exporter": "python",
   "pygments_lexer": "ipython3",
   "version": "3.11.5"
  }
 },
 "nbformat": 4,
 "nbformat_minor": 2
}
