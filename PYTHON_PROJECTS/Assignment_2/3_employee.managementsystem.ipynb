{
 "cells": [
  {
   "cell_type": "code",
   "execution_count": 87,
   "metadata": {},
   "outputs": [],
   "source": [
    "class Employee:\n",
    "    def __init__(self, name, employee_id):\n",
    "        self.name = name\n",
    "        self.employee_id = employee_id\n",
    "\n",
    "    def calculate_salary(self, hours_worked, hourly_rate):\n",
    "        salary = hours_worked * hourly_rate\n",
    "        return salary\n",
    "\n",
    "    def display_details(self):\n",
    "        print(\"Employee Details:\")\n",
    "        print(\"Name:\", self.name)\n",
    "        print(\"Employee ID:\", self.employee_id)\n"
   ]
  },
  {
   "cell_type": "code",
   "execution_count": 88,
   "metadata": {},
   "outputs": [],
   "source": [
    "employee1 = Employee(\"Prem Sharma\", \"2315510150\")\n",
    "employee2 = Employee(\"Tony Stark\", \"2315510151\")"
   ]
  },
  {
   "cell_type": "code",
   "execution_count": 89,
   "metadata": {},
   "outputs": [],
   "source": [
    "hourly_rate = 500"
   ]
  },
  {
   "cell_type": "code",
   "execution_count": 90,
   "metadata": {},
   "outputs": [],
   "source": [
    "hours_worked_employee1 = 40\n",
    "hours_worked_employee2 = 30"
   ]
  },
  {
   "cell_type": "code",
   "execution_count": 91,
   "metadata": {},
   "outputs": [],
   "source": [
    "salary_employee1 = employee1.calculate_salary(hours_worked_employee1, hourly_rate)\n",
    "salary_employee2 = employee2.calculate_salary(hours_worked_employee2, hourly_rate)"
   ]
  },
  {
   "cell_type": "code",
   "execution_count": 92,
   "metadata": {},
   "outputs": [
    {
     "name": "stdout",
     "output_type": "stream",
     "text": [
      "Employee Details:\n",
      "Name: Prem Sharma\n",
      "Employee ID: 2315510150\n",
      "Salary: 20000 rupee\n",
      "--------------------\n",
      "Employee Details:\n",
      "Name: Tony Stark\n",
      "Employee ID: 2315510151\n",
      "Salary: 15000 rupee\n"
     ]
    }
   ],
   "source": [
    "employee1.display_details()\n",
    "print(\"Salary:\", salary_employee1,'rupee')\n",
    "print(\"--------------------\")\n",
    "employee2.display_details()\n",
    "print(\"Salary:\", salary_employee2,'rupee')"
   ]
  },
  {
   "cell_type": "code",
   "execution_count": null,
   "metadata": {},
   "outputs": [],
   "source": []
  }
 ],
 "metadata": {
  "kernelspec": {
   "display_name": "Python 3",
   "language": "python",
   "name": "python3"
  },
  "language_info": {
   "codemirror_mode": {
    "name": "ipython",
    "version": 3
   },
   "file_extension": ".py",
   "mimetype": "text/x-python",
   "name": "python",
   "nbconvert_exporter": "python",
   "pygments_lexer": "ipython3",
   "version": "3.11.5"
  }
 },
 "nbformat": 4,
 "nbformat_minor": 2
}
