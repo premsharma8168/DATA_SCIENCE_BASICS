{
 "cells": [
  {
   "cell_type": "code",
   "execution_count": 12,
   "metadata": {},
   "outputs": [],
   "source": [
    "class Time:\n",
    "    def __init__(self, seconds=0, minutes=0, hours=0):\n",
    "        self.total_seconds = seconds + minutes * 60 + hours * 3600\n",
    "\n",
    "    def to_seconds(self):\n",
    "        return self.total_seconds\n",
    "\n",
    "    def to_minutes(self):\n",
    "        return self.total_seconds / 60\n",
    "\n",
    "    def to_hours(self):\n",
    "        return self.total_seconds / 3600\n",
    "\n",
    "    @classmethod\n",
    "    def from_seconds(cls, seconds):\n",
    "        return cls(seconds=seconds)\n",
    "\n",
    "    @classmethod\n",
    "    def from_minutes(cls, minutes):\n",
    "        return cls(minutes=minutes)\n",
    "\n",
    "    @classmethod\n",
    "    def from_hours(cls, hours):\n",
    "        return cls(hours=hours)"
   ]
  },
  {
   "cell_type": "code",
   "execution_count": 13,
   "metadata": {},
   "outputs": [
    {
     "name": "stdout",
     "output_type": "stream",
     "text": [
      "2.0 hours is equal to 120.0 minutes or 7200 seconds.\n",
      "180 seconds is equal to 3.0 minutes or 0.05 hours.\n"
     ]
    }
   ],
   "source": [
    "# Example usage:\n",
    "# Convert 2 hours to minutes and seconds\n",
    "time_obj = Time.from_hours(2)\n",
    "print(f\"{time_obj.to_hours()} hours is equal to {time_obj.to_minutes()} minutes or {time_obj.to_seconds()} seconds.\")\n",
    "\n",
    "# Convert 180 seconds to minutes and hours\n",
    "time_obj = Time.from_seconds(180)\n",
    "print(f\"{time_obj.to_seconds()} seconds is equal to {time_obj.to_minutes()} minutes or {time_obj.to_hours()} hours.\")\n"
   ]
  }
 ],
 "metadata": {
  "kernelspec": {
   "display_name": "Python 3",
   "language": "python",
   "name": "python3"
  },
  "language_info": {
   "codemirror_mode": {
    "name": "ipython",
    "version": 3
   },
   "file_extension": ".py",
   "mimetype": "text/x-python",
   "name": "python",
   "nbconvert_exporter": "python",
   "pygments_lexer": "ipython3",
   "version": "3.11.5"
  }
 },
 "nbformat": 4,
 "nbformat_minor": 2
}
