{
 "cells": [
  {
   "cell_type": "code",
   "execution_count": 9,
   "metadata": {},
   "outputs": [],
   "source": [
    "class Calculator:\n",
    "    def add(self, x, y):\n",
    "        return x + y\n",
    "\n",
    "    def subtract(self, x, y):\n",
    "        return x - y\n",
    "\n",
    "    def multiply(self, x, y):\n",
    "        return x * y\n",
    "    \n",
    "    def divide(self, x, y):\n",
    "        return x / y\n",
    "\n",
    "    def Error(self, x, y):\n",
    "        if y == 0:\n",
    "            return \"Error: Division by zero\""
   ]
  },
  {
   "cell_type": "code",
   "execution_count": 10,
   "metadata": {},
   "outputs": [],
   "source": [
    "# Example usage:\n",
    "calculator = Calculator()\n",
    "\n",
    "result_addition = calculator.add(5, 3)\n",
    "result_subtraction = calculator.subtract(10, 4)\n",
    "result_multiplication = calculator.multiply(2, 6)\n",
    "result_division = calculator.divide(8, 2)"
   ]
  },
  {
   "cell_type": "code",
   "execution_count": 11,
   "metadata": {},
   "outputs": [
    {
     "name": "stdout",
     "output_type": "stream",
     "text": [
      "Addition: 8\n",
      "Subtraction: 6\n",
      "Multiplication: 12\n",
      "Division: 4.0\n"
     ]
    }
   ],
   "source": [
    "print(\"Addition:\", result_addition)\n",
    "print(\"Subtraction:\", result_subtraction)\n",
    "print(\"Multiplication:\", result_multiplication)\n",
    "print(\"Division:\", result_division)\n"
   ]
  },
  {
   "cell_type": "code",
   "execution_count": null,
   "metadata": {},
   "outputs": [],
   "source": []
  }
 ],
 "metadata": {
  "kernelspec": {
   "display_name": "Python 3",
   "language": "python",
   "name": "python3"
  },
  "language_info": {
   "codemirror_mode": {
    "name": "ipython",
    "version": 3
   },
   "file_extension": ".py",
   "mimetype": "text/x-python",
   "name": "python",
   "nbconvert_exporter": "python",
   "pygments_lexer": "ipython3",
   "version": "3.11.5"
  }
 },
 "nbformat": 4,
 "nbformat_minor": 2
}
