{
 "cells": [
  {
   "cell_type": "code",
   "execution_count": 4,
   "metadata": {},
   "outputs": [],
   "source": [
    "class ToDo:\n",
    "    def __init__(self):\n",
    "        self.tasks = []\n",
    "\n",
    "    def add_task(self, task):\n",
    "        self.tasks.append({\"task\": task, \"completed\": False})\n",
    "        print(f\"Task '{task}' added successfully.\")\n",
    "\n",
    "    def mark_as_completed(self, task_index):\n",
    "        if 0 <= task_index < len(self.tasks):\n",
    "            self.tasks[task_index][\"completed\"] = True\n",
    "            print(f\"Task '{self.tasks[task_index]['task']}' marked as completed.\")\n",
    "        else:\n",
    "            print(\"Invalid task index.\")\n",
    "\n",
    "    def display_tasks(self):\n",
    "        \"\"\"Display the list of tasks.\"\"\"\n",
    "        if not self.tasks:\n",
    "            print(\"No tasks in the to-do list.\")\n",
    "        else:\n",
    "            print(\"To-Do List:\")\n",
    "            for index, task_info in enumerate(self.tasks):\n",
    "                status = \" [x] \" if task_info[\"completed\"] else \" [ ] \"\n",
    "                print(f\"{index + 1}.{status} {task_info['task']}\")"
   ]
  },
  {
   "cell_type": "code",
   "execution_count": 5,
   "metadata": {},
   "outputs": [
    {
     "name": "stdout",
     "output_type": "stream",
     "text": [
      "Task 'Buy groceries' added successfully.\n",
      "Task 'Complete homework' added successfully.\n",
      "Task 'Exercise' added successfully.\n"
     ]
    }
   ],
   "source": [
    "# Example usage:\n",
    "todo_list = ToDo()\n",
    "\n",
    "todo_list.add_task(\"Buy groceries\")\n",
    "todo_list.add_task(\"Complete homework\")\n",
    "todo_list.add_task(\"Exercise\")"
   ]
  },
  {
   "cell_type": "code",
   "execution_count": 6,
   "metadata": {},
   "outputs": [
    {
     "name": "stdout",
     "output_type": "stream",
     "text": [
      "To-Do List:\n",
      "1. [ ]  Buy groceries\n",
      "2. [ ]  Complete homework\n",
      "3. [ ]  Exercise\n",
      "--------------------\n",
      "Task 'Exercise' marked as completed.\n",
      "--------------------\n",
      "To-Do List:\n",
      "1. [ ]  Buy groceries\n",
      "2. [ ]  Complete homework\n",
      "3. [x]  Exercise\n"
     ]
    }
   ],
   "source": [
    "todo_list.display_tasks()\n",
    "\n",
    "print(\"--------------------\")\n",
    "todo_list.mark_as_completed(2)\n",
    "\n",
    "print(\"--------------------\")\n",
    "todo_list.display_tasks()\n"
   ]
  },
  {
   "cell_type": "code",
   "execution_count": null,
   "metadata": {},
   "outputs": [],
   "source": []
  }
 ],
 "metadata": {
  "kernelspec": {
   "display_name": "Python 3",
   "language": "python",
   "name": "python3"
  },
  "language_info": {
   "codemirror_mode": {
    "name": "ipython",
    "version": 3
   },
   "file_extension": ".py",
   "mimetype": "text/x-python",
   "name": "python",
   "nbconvert_exporter": "python",
   "pygments_lexer": "ipython3",
   "version": "3.11.5"
  }
 },
 "nbformat": 4,
 "nbformat_minor": 2
}
