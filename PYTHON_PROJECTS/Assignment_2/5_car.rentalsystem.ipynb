{
 "cells": [
  {
   "cell_type": "code",
   "execution_count": 16,
   "metadata": {},
   "outputs": [],
   "source": [
    "class Car:\n",
    "    def __init__(self, model, color, base_rate):\n",
    "\n",
    "        self.model = model\n",
    "        self.color = color\n",
    "        self.base_rate = base_rate\n",
    "\n",
    "    def calculate_rental_charge(self, days, discount=0):\n",
    "        if days < 0:\n",
    "            raise ValueError(\"Number of days cannot be negative.\")\n",
    "        \n",
    "        daily_rate = self.base_rate * (1 - discount)\n",
    "        total_cost = days * daily_rate\n",
    "        return total_cost\n",
    "\n",
    "    def __str__(self):\n",
    "\n",
    "        return f\"Car Model: {self.model}, Color: {self.color}, Base Rate: {self.base_rate}\""
   ]
  },
  {
   "cell_type": "code",
   "execution_count": 17,
   "metadata": {},
   "outputs": [
    {
     "name": "stdout",
     "output_type": "stream",
     "text": [
      "Car Model: Toyota Corolla, Color: Blue, Base Rate: 100\n",
      "Rental Charge for 5 days: 500\n",
      "Rental Charge for 5 days with 10% discount: 450.0\n"
     ]
    }
   ],
   "source": [
    "# Example Usage\n",
    "car1 = Car(\"Toyota Corolla\", \"Blue\", 100)\n",
    "print(car1)\n",
    "print(\"Rental Charge for 5 days:\", car1.calculate_rental_charge(5))\n",
    "print(\"Rental Charge for 5 days with 10% discount:\", car1.calculate_rental_charge(5,0.1))"
   ]
  },
  {
   "cell_type": "code",
   "execution_count": null,
   "metadata": {},
   "outputs": [],
   "source": []
  }
 ],
 "metadata": {
  "kernelspec": {
   "display_name": "Python 3",
   "language": "python",
   "name": "python3"
  },
  "language_info": {
   "codemirror_mode": {
    "name": "ipython",
    "version": 3
   },
   "file_extension": ".py",
   "mimetype": "text/x-python",
   "name": "python",
   "nbconvert_exporter": "python",
   "pygments_lexer": "ipython3",
   "version": "3.11.5"
  }
 },
 "nbformat": 4,
 "nbformat_minor": 2
}
