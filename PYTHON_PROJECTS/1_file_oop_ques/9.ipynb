{
 "cells": [
  {
   "cell_type": "code",
   "execution_count": 1,
   "metadata": {},
   "outputs": [],
   "source": [
    "# Question 9: \n",
    "# Design a class Car with attributes make, model, and year. Implement a method is_old that \n",
    "# returns True if the car is more than 10 years old, otherwise False. "
   ]
  },
  {
   "cell_type": "code",
   "execution_count": 13,
   "metadata": {},
   "outputs": [],
   "source": [
    "class Car:\n",
    "    def __init__(self , make_by , model , year):\n",
    "        self.make_by = make_by\n",
    "        self.model = model\n",
    "        self.year = year\n",
    "\n",
    "    def is_old(self):\n",
    "        return self.year >= 10\n",
    "    \n",
    "    def details(self):\n",
    "        return f'''\n",
    "        Maked By : {self.make_by}\n",
    "        Model No. : {self.model}\n",
    "        MFG in Year Before : {self.year}'''"
   ]
  },
  {
   "cell_type": "code",
   "execution_count": 14,
   "metadata": {},
   "outputs": [
    {
     "name": "stdout",
     "output_type": "stream",
     "text": [
      "\n",
      "        Maked By : FORD MUSTANG\n",
      "        Model No. : S550\n",
      "        MFG in Year Before : 1\n",
      "      First Car is Old: False\n",
      "_____________________________________________________\n",
      "\n",
      "        Maked By : TOYOTA\n",
      "        Model No. : ZVW52\n",
      "        MFG in Year Before : 2\n",
      "     Second Car is Old: False\n"
     ]
    }
   ],
   "source": [
    "Car1 = Car(input(\"Enter Name of Company Which Make First Car :\"),input(\"Enter Model No. of First Car : \"),int(input(\"Enter Manufactuaring in Year Before\")))\n",
    "Car2 = Car(input(\"Enter Name of Company Which Make Second Car :\"),input(\"Enter Model No. of Second Car : \"),int(input(\"Enter Manufactuaring in Year Before\")))\n",
    "print(Car1.details())\n",
    "print(f'''      First Car is Old: {Car1.is_old()}''')\n",
    "print(\"_____________________________________________________\")\n",
    "print(Car2.details())\n",
    "print(f'''     Second Car is Old: {Car2.is_old()}''')"
   ]
  },
  {
   "cell_type": "code",
   "execution_count": null,
   "metadata": {},
   "outputs": [],
   "source": []
  }
 ],
 "metadata": {
  "kernelspec": {
   "display_name": "Python 3",
   "language": "python",
   "name": "python3"
  },
  "language_info": {
   "codemirror_mode": {
    "name": "ipython",
    "version": 3
   },
   "file_extension": ".py",
   "mimetype": "text/x-python",
   "name": "python",
   "nbconvert_exporter": "python",
   "pygments_lexer": "ipython3",
   "version": "3.11.5"
  }
 },
 "nbformat": 4,
 "nbformat_minor": 2
}
