{
 "cells": [
  {
   "cell_type": "code",
   "execution_count": null,
   "metadata": {},
   "outputs": [],
   "source": [
    "# Question 4: \n",
    "# Design a class hierarchy for a zoo. Create a base class Animal with attributes like name, \n",
    "# species, and age. Then, create derived classes for specific types of animals, such as  Lion, \n",
    "# Elephant, and Giraffe. Implement methods to display information specific to each type of \n",
    "# animal."
   ]
  },
  {
   "cell_type": "code",
   "execution_count": 1,
   "metadata": {},
   "outputs": [],
   "source": [
    "class Animal:\n",
    "    def __init__(self , name , species , age):\n",
    "        self.name = name\n",
    "        self.species = species\n",
    "        self.age = age\n",
    "\n",
    "    def show_details(self):\n",
    "        return f'''\n",
    "        Name:{self.name}\n",
    "        Species:{self.species}\n",
    "        Age:{self.age}\n",
    "        '''"
   ]
  },
  {
   "cell_type": "code",
   "execution_count": 2,
   "metadata": {},
   "outputs": [],
   "source": [
    "class Lion(Animal):\n",
    "    def show_details(self):\n",
    "        return f'''\n",
    "        Name:{self.name}\n",
    "        Species:{self.species}\n",
    "        Age:{self.age}\n",
    "        '''"
   ]
  },
  {
   "cell_type": "code",
   "execution_count": 3,
   "metadata": {},
   "outputs": [],
   "source": [
    "class Elephant(Animal):\n",
    "    def show_details(self):\n",
    "        return f'''\n",
    "        Name:{self.name}\n",
    "        Species:{self.species}\n",
    "        Age:{self.age}\n",
    "        '''"
   ]
  },
  {
   "cell_type": "code",
   "execution_count": 4,
   "metadata": {},
   "outputs": [],
   "source": [
    "class Giraffe(Animal):\n",
    "    def show_details(self):\n",
    "        return f'''\n",
    "        Name:{self.name}\n",
    "        Species:{self.species}\n",
    "        Age:{self.age}\n",
    "        '''"
   ]
  },
  {
   "cell_type": "code",
   "execution_count": 5,
   "metadata": {},
   "outputs": [
    {
     "name": "stdout",
     "output_type": "stream",
     "text": [
      "\n",
      "        Name:Simba\n",
      "        Species:None\n",
      "        Age:5\n",
      "        \n",
      "-------------------------------------------\n",
      "\n",
      "        Name:Gaj\n",
      "        Species:None\n",
      "        Age:12\n",
      "        \n",
      "-------------------------------------------\n",
      "\n",
      "        Name:George\n",
      "        Species:None\n",
      "        Age:17\n",
      "        \n"
     ]
    }
   ],
   "source": [
    "animal1= Lion(input(\"Enter Name of Lion\") , input(\"Enter Species of lion\") , int(input(\"Enter Age of Lion\")))\n",
    "animal2= Elephant(input(\"Enter Name of Elephant\") , input(\"Enter Species of Elephant\") , int(input(\"Enter Age of Elephant\")))\n",
    "animal3= Giraffe(input(\"Enter Name of Giraffe\") , input(\"Enter Species of Giraffe\") , int(input(\"Enter Age of Giraffe\")))\n",
    "print(animal1.show_details())\n",
    "print(\"-------------------------------------------\")\n",
    "print(animal2.show_details())\n",
    "print(\"-------------------------------------------\")\n",
    "print(animal3.show_details())"
   ]
  },
  {
   "cell_type": "code",
   "execution_count": null,
   "metadata": {},
   "outputs": [],
   "source": []
  }
 ],
 "metadata": {
  "kernelspec": {
   "display_name": "Python 3",
   "language": "python",
   "name": "python3"
  },
  "language_info": {
   "codemirror_mode": {
    "name": "ipython",
    "version": 3
   },
   "file_extension": ".py",
   "mimetype": "text/x-python",
   "name": "python",
   "nbconvert_exporter": "python",
   "pygments_lexer": "ipython3",
   "version": "3.11.5"
  }
 },
 "nbformat": 4,
 "nbformat_minor": 2
}
