{
 "cells": [
  {
   "cell_type": "code",
   "execution_count": 63,
   "metadata": {},
   "outputs": [],
   "source": [
    "# Question 6: \n",
    "# Implement a class Book with attributes title, author, and publication year. Create a method \n",
    "# to display the book details. Then, create a derived class EBook that adds an attribute for \n",
    "# the file size. Override the display method in the EBook class to include the file size."
   ]
  },
  {
   "cell_type": "code",
   "execution_count": 75,
   "metadata": {},
   "outputs": [],
   "source": [
    "class Book:\n",
    "    def __init__(self , title , author , publication_year):\n",
    "        self.title = title\n",
    "        self.author = author\n",
    "        self.publication_year = publication_year\n",
    "\n",
    "    def display(self):\n",
    "        return f'''\n",
    "        Title:{self.title}\n",
    "        Author:{self.author}\n",
    "        Publication Year:{self.publication_year}'''"
   ]
  },
  {
   "cell_type": "code",
   "execution_count": 76,
   "metadata": {},
   "outputs": [],
   "source": [
    "class EBook(Book):\n",
    "    def __init__(self , title , author , publication_year , file_size):\n",
    "        super().__init__(title , author , publication_year)\n",
    "        self.file_size = file_size\n",
    "\n",
    "    def display(self):\n",
    "        super().display()\n",
    "        return f'''\n",
    "        File Size of EBook:{self.file_size}\n",
    "        '''"
   ]
  },
  {
   "cell_type": "code",
   "execution_count": 66,
   "metadata": {},
   "outputs": [
    {
     "name": "stdout",
     "output_type": "stream",
     "text": [
      "\n",
      "        Title:Operating Systems\n",
      "        Author:Ekta Walia\n",
      "        Publication Year:1999\n",
      "------------------------------------\n",
      "\n",
      "        Title:Design & Analysis of Algorithms\n",
      "        Author:S. Sridhar\n",
      "        Publication Year:1987\n"
     ]
    }
   ],
   "source": [
    "# Hardcopy of Book\n",
    "book1 = Book(input(\"Enter the Title of First book\") , input(\"Enter the Name of First book Author\") , int(input(\"Enter Publication Year of First Book\")))\n",
    "print(book1.display())\n",
    "print(\"------------------------------------\")\n",
    "book2 = Book(input(\"Enter the Title of Second book\") , input(\"Enter the Name of Second book Author\") , int(input(\"Enter Publication Year of Second Book\")))\n",
    "print(book2.display())"
   ]
  },
  {
   "cell_type": "code",
   "execution_count": 77,
   "metadata": {},
   "outputs": [
    {
     "name": "stdout",
     "output_type": "stream",
     "text": [
      "\n",
      "        File Size of EBook:2mb\n",
      "------------------------------------\n",
      "\n",
      "        File Size of EBook:23kb\n"
     ]
    }
   ],
   "source": [
    "# EBook\n",
    "Ebook1 = EBook(input(\"Enter the Title of First Ebook\") , input(\"Enter the Name of First Ebook Author\") , int(input(\"Enter Publication Year of First EBook\")) , input(\"Enter the File Size Of First EBook like : 23 KB\"))\n",
    "print(Ebook1.display())\n",
    "print(\"------------------------------------\")\n",
    "Ebook2 = EBook(input(\"Enter the Title of Second Ebook\") , input(\"Enter the Name of Second Ebook Author\") , int(input(\"Enter Publication Year of Second EBook\")) , input(\"Enter the File Size Of First EBook like : 23 KB\"))\n",
    "print(Ebook2.display())"
   ]
  },
  {
   "cell_type": "code",
   "execution_count": null,
   "metadata": {},
   "outputs": [],
   "source": []
  }
 ],
 "metadata": {
  "kernelspec": {
   "display_name": "Python 3",
   "language": "python",
   "name": "python3"
  },
  "language_info": {
   "codemirror_mode": {
    "name": "ipython",
    "version": 3
   },
   "file_extension": ".py",
   "mimetype": "text/x-python",
   "name": "python",
   "nbconvert_exporter": "python",
   "pygments_lexer": "ipython3",
   "version": "3.11.5"
  }
 },
 "nbformat": 4,
 "nbformat_minor": 2
}
