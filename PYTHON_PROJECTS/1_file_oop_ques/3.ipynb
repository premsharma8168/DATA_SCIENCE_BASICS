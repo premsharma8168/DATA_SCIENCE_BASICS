{
 "cells": [
  {
   "cell_type": "code",
   "execution_count": null,
   "metadata": {},
   "outputs": [],
   "source": [
    "# Question 3: \n",
    "# Extend the previous Student class by adding a method calculate_grade that takes a \n",
    "# percentage as an argument and returns the corresponding grade (A, B, C, etc.)."
   ]
  },
  {
   "cell_type": "code",
   "execution_count": 3,
   "metadata": {},
   "outputs": [],
   "source": [
    "class Student:\n",
    "    def __init__(self , name , age , grade):\n",
    "        self.name=name\n",
    "        self.age=age\n",
    "        self.grade=grade\n",
    "\n",
    "    def grade_calculater(self , percentage):\n",
    "        self.percentage = percentage\n",
    "        if percentage>=90:\n",
    "            self.grade='O'\n",
    "        elif percentage>=80:\n",
    "            self.grade='A+'\n",
    "        elif percentage>=70:\n",
    "            self.grade='A'\n",
    "        elif percentage>=60:\n",
    "            self.grade='B+'\n",
    "        elif percentage>=50:\n",
    "            self.grade='B'\n",
    "        elif percentage>=40:\n",
    "            self.grade='C'\n",
    "        elif percentage<40:\n",
    "            self.grade='F'\n",
    "\n",
    "    def details(self):\n",
    "        return f'''\n",
    "        Name:{self.name}\n",
    "        Age:{self.age}\n",
    "        Grade:{self.grade}\n",
    "        '''"
   ]
  },
  {
   "cell_type": "code",
   "execution_count": 4,
   "metadata": {},
   "outputs": [
    {
     "name": "stdout",
     "output_type": "stream",
     "text": [
      "\n",
      "        Name:Prem Sharma\n",
      "        Age:18\n",
      "        Grade:A\n",
      "        \n",
      "----------------------------------------\n",
      "\n",
      "        Name:Tony Stark\n",
      "        Age:28\n",
      "        Grade:O\n",
      "        \n"
     ]
    }
   ],
   "source": [
    "Student1=Student(input('Enter your Name') , int(input('Enter your Age')) , eval(input('Enter your percentage for Enquery')))\n",
    "Student1.grade_calculater(eval(input('Enter your percentage for get Grade')))\n",
    "print(Student1.details())\n",
    "print('----------------------------------------')\n",
    "Student2=Student(input('Enter your Name') , int(input('Enter your Age')) , eval(input('Enter your percentage for Enquery')))\n",
    "Student2.grade_calculater(eval(input('Enter your percentage  for get Grade')))\n",
    "print(Student2.details())"
   ]
  },
  {
   "cell_type": "code",
   "execution_count": null,
   "metadata": {},
   "outputs": [],
   "source": []
  }
 ],
 "metadata": {
  "kernelspec": {
   "display_name": "Python 3",
   "language": "python",
   "name": "python3"
  },
  "language_info": {
   "codemirror_mode": {
    "name": "ipython",
    "version": 3
   },
   "file_extension": ".py",
   "mimetype": "text/x-python",
   "name": "python",
   "nbconvert_exporter": "python",
   "pygments_lexer": "ipython3",
   "version": "3.11.5"
  }
 },
 "nbformat": 4,
 "nbformat_minor": 2
}
