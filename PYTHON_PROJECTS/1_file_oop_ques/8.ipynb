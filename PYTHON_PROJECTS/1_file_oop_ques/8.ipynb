{
 "cells": [
  {
   "cell_type": "code",
   "execution_count": 1,
   "metadata": {},
   "outputs": [],
   "source": [
    "# Question 8: \n",
    "# Create a class Person with attributes name, age, and address. Implement a method \n",
    "# is_adult that returns True if the person is 18 years or older, otherwise False."
   ]
  },
  {
   "cell_type": "code",
   "execution_count": 29,
   "metadata": {},
   "outputs": [],
   "source": [
    "class Person:\n",
    "    def __init__(self , name , age , address):\n",
    "        self.name = name\n",
    "        self.age = age\n",
    "        self.address = address\n",
    "\n",
    "    def is_adult(self):\n",
    "        return self.age >= 18\n",
    "    \n",
    "    def details(self):\n",
    "        return f'''\n",
    "        Name : {self.name}\n",
    "        Age : {self.age}\n",
    "        Address : {self.address}'''"
   ]
  },
  {
   "cell_type": "code",
   "execution_count": 30,
   "metadata": {},
   "outputs": [
    {
     "name": "stdout",
     "output_type": "stream",
     "text": [
      "\n",
      "        Name : PREM SHARMA\n",
      "        Age : 18\n",
      "        Address : HODAL , HARYANA\n",
      "      PREM SHARMA is an adult: True\n",
      "_____________________________________________________________\n",
      "\n",
      "        Name : TONY STARK\n",
      "        Age : 42\n",
      "        Address : MIAMI , USA\n",
      "      TONY STARK is an adult: True\n"
     ]
    }
   ],
   "source": [
    "person1 = Person(input(\"Enter Name of First Person :\"),int(input(\"Enter Age of First Person : \")),input(\"Enter Address of First Person\"))\n",
    "person2 = Person(input(\"Enter Name of Second Person :\"),int(input(\"Enter Age of Second Person : \")),input(\"Enter Address of Second Person\"))\n",
    "print(person1.details())\n",
    "print(f'''      {person1.name} is an adult: {person1.is_adult()}''')\n",
    "print(\"_________________________________________________________\")\n",
    "print(person2.details())\n",
    "print(f'''      {person2.name} is an adult: {person2.is_adult()}''')"
   ]
  },
  {
   "cell_type": "code",
   "execution_count": null,
   "metadata": {},
   "outputs": [],
   "source": []
  }
 ],
 "metadata": {
  "kernelspec": {
   "display_name": "Python 3",
   "language": "python",
   "name": "python3"
  },
  "language_info": {
   "codemirror_mode": {
    "name": "ipython",
    "version": 3
   },
   "file_extension": ".py",
   "mimetype": "text/x-python",
   "name": "python",
   "nbconvert_exporter": "python",
   "pygments_lexer": "ipython3",
   "version": "3.11.5"
  }
 },
 "nbformat": 4,
 "nbformat_minor": 2
}
