{
 "cells": [
  {
   "cell_type": "code",
   "execution_count": 1,
   "metadata": {},
   "outputs": [],
   "source": [
    "class Employee:\n",
    "    def __init__(self, name, employee_id, position, salary):\n",
    "        self.name = name\n",
    "        self.employee_id = employee_id\n",
    "        self.position = position\n",
    "        self.salary = salary\n",
    "\n",
    "    def display_details(self):\n",
    "        return f\"Employee ID: {self.employee_id}\\nName: {self.name}\\nPosition: {self.position}\\nSalary: {self.salary}\"\n",
    "\n",
    "    def update_salary(self, new_salary):\n",
    "        self.salary = new_salary\n",
    "        return f\"Salary updated for {self.name}. New salary: {self.salary}\""
   ]
  },
  {
   "cell_type": "code",
   "execution_count": 2,
   "metadata": {},
   "outputs": [],
   "source": [
    "# Example usage:\n",
    "employee1 = Employee(\"Prem Sharma\", 101, \"Artificial intelligence Engineer\", 180000)\n",
    "employee2 = Employee(\"Tony Stark\", 102, \"Data Scientist\", 90000)"
   ]
  },
  {
   "cell_type": "code",
   "execution_count": 3,
   "metadata": {},
   "outputs": [
    {
     "name": "stdout",
     "output_type": "stream",
     "text": [
      "Employee 1 Details:\n",
      "Employee ID: 101\n",
      "Name: Prem Sharma\n",
      "Position: Artificial intelligence Engineer\n",
      "Salary: 180000\n",
      "\n",
      "Employee 2 Details:\n",
      "Employee ID: 102\n",
      "Name: Tony Stark\n",
      "Position: Data Scientist\n",
      "Salary: 90000\n"
     ]
    }
   ],
   "source": [
    "# Display employee details\n",
    "print(\"Employee 1 Details:\")\n",
    "print(employee1.display_details())\n",
    "print(\"\\nEmployee 2 Details:\")\n",
    "print(employee2.display_details())"
   ]
  },
  {
   "cell_type": "code",
   "execution_count": 4,
   "metadata": {},
   "outputs": [
    {
     "name": "stdout",
     "output_type": "stream",
     "text": [
      "\n",
      " Salary updated for Prem Sharma. New salary: 185000\n"
     ]
    }
   ],
   "source": [
    "# Update salary\n",
    "new_salary = 185000\n",
    "update_message = employee1.update_salary(new_salary)\n",
    "print(\"\\n\", update_message)"
   ]
  },
  {
   "cell_type": "code",
   "execution_count": 5,
   "metadata": {},
   "outputs": [
    {
     "name": "stdout",
     "output_type": "stream",
     "text": [
      "\n",
      "Employee 1 Updated Details:\n",
      "Employee ID: 101\n",
      "Name: Prem Sharma\n",
      "Position: Artificial intelligence Engineer\n",
      "Salary: 185000\n"
     ]
    }
   ],
   "source": [
    "# Display updated details\n",
    "print(\"\\nEmployee 1 Updated Details:\")\n",
    "print(employee1.display_details())"
   ]
  },
  {
   "cell_type": "code",
   "execution_count": null,
   "metadata": {},
   "outputs": [],
   "source": []
  }
 ],
 "metadata": {
  "kernelspec": {
   "display_name": "Python 3",
   "language": "python",
   "name": "python3"
  },
  "language_info": {
   "codemirror_mode": {
    "name": "ipython",
    "version": 3
   },
   "file_extension": ".py",
   "mimetype": "text/x-python",
   "name": "python",
   "nbconvert_exporter": "python",
   "pygments_lexer": "ipython3",
   "version": "3.11.5"
  }
 },
 "nbformat": 4,
 "nbformat_minor": 2
}
