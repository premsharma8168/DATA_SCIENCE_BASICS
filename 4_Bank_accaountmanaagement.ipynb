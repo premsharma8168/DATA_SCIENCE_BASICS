{
 "cells": [
  {
   "cell_type": "code",
   "execution_count": 32,
   "metadata": {},
   "outputs": [],
   "source": [
    "class BankAccount:\n",
    "    def __init__(self, account_holder, initial_balance=0):\n",
    "        self.account_holder = account_holder\n",
    "        self.balance = initial_balance\n",
    "\n",
    "    def deposit(self, amount):\n",
    "        if amount > 0:\n",
    "            self.balance += amount\n",
    "            print(f\"Deposited {amount} rupees . New balance: {self.balance} rupees\")\n",
    "        else:\n",
    "            print(\"Invalid deposit amount. Please enter a positive value.\")\n",
    "\n",
    "    def withdraw(self, amount):\n",
    "        if amount > 0 and amount <= self.balance:\n",
    "            self.balance -= amount\n",
    "            print(f\"Withdrew {amount} rupees . New balance: {self.balance} rupees\")\n",
    "        else:\n",
    "            print(\"Invalid withdrawal amount or insufficient funds.\")\n",
    "\n",
    "    def check_balance(self):\n",
    "        print(f\"Current balance for {self.account_holder}: {self.balance} rupees\")"
   ]
  },
  {
   "cell_type": "code",
   "execution_count": 33,
   "metadata": {},
   "outputs": [
    {
     "name": "stdout",
     "output_type": "stream",
     "text": [
      "Account created successfully!!!\n"
     ]
    }
   ],
   "source": [
    "# Example usage:\n",
    "account1 = BankAccount(\"Prem Sharma\", initial_balance=0)\n",
    "print(\"Account created successfully!!!\")"
   ]
  },
  {
   "cell_type": "code",
   "execution_count": 34,
   "metadata": {},
   "outputs": [
    {
     "name": "stdout",
     "output_type": "stream",
     "text": [
      "Current balance for Prem Sharma: 0 rupees\n",
      "Deposited 100000 rupees . New balance: 100000 rupees\n",
      "Withdrew 99000 rupees . New balance: 1000 rupees\n",
      "Current balance for Prem Sharma: 1000 rupees\n"
     ]
    }
   ],
   "source": [
    "account1.check_balance()\n",
    "account1.deposit(int(input(\"Enter Amount you want to deposit.\")))\n",
    "account1.withdraw(int(input(\"Enter Amount you want to withdraw.\")))\n",
    "account1.check_balance()"
   ]
  },
  {
   "cell_type": "code",
   "execution_count": null,
   "metadata": {},
   "outputs": [],
   "source": []
  }
 ],
 "metadata": {
  "kernelspec": {
   "display_name": "Python 3",
   "language": "python",
   "name": "python3"
  },
  "language_info": {
   "codemirror_mode": {
    "name": "ipython",
    "version": 3
   },
   "file_extension": ".py",
   "mimetype": "text/x-python",
   "name": "python",
   "nbconvert_exporter": "python",
   "pygments_lexer": "ipython3",
   "version": "3.11.5"
  }
 },
 "nbformat": 4,
 "nbformat_minor": 2
}
