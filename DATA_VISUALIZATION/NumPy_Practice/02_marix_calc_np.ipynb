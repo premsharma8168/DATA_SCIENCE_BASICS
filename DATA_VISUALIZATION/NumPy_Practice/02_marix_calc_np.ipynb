{
 "cells": [
  {
   "cell_type": "code",
   "execution_count": 7,
   "metadata": {},
   "outputs": [],
   "source": [
    "import numpy as np"
   ]
  },
  {
   "cell_type": "code",
   "execution_count": 8,
   "metadata": {},
   "outputs": [],
   "source": [
    "class NumpyArray:\n",
    "    def __init__(self, lst, r=0, c=0):\n",
    "        if r != 0 and c != 0:\n",
    "            self.lst = np.array(lst).reshape(r, c)\n",
    "        else:\n",
    "            self.lst = np.array(lst)\n",
    "\n",
    "    def __add__(self, other):\n",
    "        if self.lst.shape == other.lst.shape:\n",
    "            return NumpyArray(self.lst + other.lst)\n",
    "        else:\n",
    "            print(\"No compatible for Addition...\")\n",
    "\n",
    "    def __sub__(self, other):\n",
    "        if self.lst.shape == other.lst.shape:\n",
    "            return NumpyArray(self.lst - other.lst)\n",
    "        else:\n",
    "            print(\"No compatible for Subtraction...\")\n",
    "\n",
    "    def __mul__(self, other):\n",
    "        if self.lst.shape == other.lst.shape:\n",
    "            return NumpyArray(self.lst * other.lst)\n",
    "        else:\n",
    "            print(\"No compatible for Multiplication...\")\n",
    "\n",
    "    def dot(self, other):\n",
    "        if self.lst.shape[1] == other.lst.shape[0]:\n",
    "            return NumpyArray(np.dot(self.lst, other.lst))\n",
    "        else:\n",
    "            print('Dimension is not valid for dot multiplication')\n",
    "\n",
    "    def disp_mat(self):\n",
    "        print(self.lst)\n",
    "\n",
    "lst1 = list(map(eval, input('Enter the elements for matrix---1: ').split()))\n",
    "r1, c1 = list(map(eval, input('Enter the dimension for matrix---1::(m * n)').split()))\n",
    "arr1 = NumpyArray(lst1, r1, c1)\n",
    "\n",
    "lst2 = list(map(eval, input('Enter the elements for matrix---2: ').split()))\n",
    "r2, c2 = list(map(eval, input('Enter the dimension for matrix---2::(m * n)').split()))\n",
    "arr2 = NumpyArray(lst2, r2, c2)"
   ]
  },
  {
   "cell_type": "code",
   "execution_count": 9,
   "metadata": {},
   "outputs": [
    {
     "name": "stdout",
     "output_type": "stream",
     "text": [
      "matrix---1\n",
      "[[1 1]\n",
      " [1 1]]\n",
      " \n",
      "---------------------------\n",
      " \n",
      "matrix---2\n",
      "[[1 1]\n",
      " [1 1]]\n"
     ]
    }
   ],
   "source": [
    "print('matrix---1')\n",
    "arr1.disp_mat()\n",
    "print(' ')\n",
    "print('---------------------------')\n",
    "print(' ')\n",
    "print('matrix---2')\n",
    "arr2.disp_mat()"
   ]
  },
  {
   "cell_type": "code",
   "execution_count": 10,
   "metadata": {},
   "outputs": [
    {
     "name": "stdout",
     "output_type": "stream",
     "text": [
      "Addition of matrix---1 and matrix---2\n",
      "[[2 2]\n",
      " [2 2]]\n"
     ]
    }
   ],
   "source": [
    "out = arr1 + arr2\n",
    "print('Addition of matrix---1 and matrix---2')\n",
    "out.disp_mat()"
   ]
  },
  {
   "cell_type": "code",
   "execution_count": 11,
   "metadata": {},
   "outputs": [
    {
     "name": "stdout",
     "output_type": "stream",
     "text": [
      "Subtraction of matrix---1 and matrix---2\n",
      "[[0 0]\n",
      " [0 0]]\n"
     ]
    }
   ],
   "source": [
    "out = arr1 - arr2\n",
    "print('Subtraction of matrix---1 and matrix---2')\n",
    "out.disp_mat()"
   ]
  },
  {
   "cell_type": "code",
   "execution_count": 12,
   "metadata": {},
   "outputs": [
    {
     "name": "stdout",
     "output_type": "stream",
     "text": [
      "Multiplication of matrix---1 and matrix---2\n",
      "[[1 1]\n",
      " [1 1]]\n"
     ]
    }
   ],
   "source": [
    "out = arr1 * arr2\n",
    "print('Multiplication of matrix---1 and matrix---2')\n",
    "out.disp_mat()"
   ]
  },
  {
   "cell_type": "code",
   "execution_count": 13,
   "metadata": {},
   "outputs": [
    {
     "name": "stdout",
     "output_type": "stream",
     "text": [
      "Dot multiplication of matrix---1 and matrix---2\n",
      "[[2 2]\n",
      " [2 2]]\n"
     ]
    }
   ],
   "source": [
    "out = arr1.dot(arr2)\n",
    "print('Dot multiplication of matrix---1 and matrix---2')\n",
    "out.disp_mat()"
   ]
  },
  {
   "cell_type": "code",
   "execution_count": null,
   "metadata": {},
   "outputs": [],
   "source": []
  }
 ],
 "metadata": {
  "kernelspec": {
   "display_name": "Python 3",
   "language": "python",
   "name": "python3"
  },
  "language_info": {
   "codemirror_mode": {
    "name": "ipython",
    "version": 3
   },
   "file_extension": ".py",
   "mimetype": "text/x-python",
   "name": "python",
   "nbconvert_exporter": "python",
   "pygments_lexer": "ipython3",
   "version": "3.11.5"
  }
 },
 "nbformat": 4,
 "nbformat_minor": 2
}
