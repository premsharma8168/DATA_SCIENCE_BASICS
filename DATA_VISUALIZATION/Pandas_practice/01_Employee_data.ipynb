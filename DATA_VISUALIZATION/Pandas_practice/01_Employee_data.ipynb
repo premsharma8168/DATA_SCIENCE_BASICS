{
 "cells": [
  {
   "cell_type": "code",
   "execution_count": 22,
   "metadata": {},
   "outputs": [
    {
     "name": "stdout",
     "output_type": "stream",
     "text": [
      "   ID     Name  Age  Gender      City\n",
      "0   1    Alice   25  Female  New York\n",
      "1   2      Bob   30    Male    London\n",
      "2   3  Charlie   28    Male     Paris\n",
      "3   4     Dana   35  Female    Berlin\n"
     ]
    }
   ],
   "source": [
    "import pandas as pd\n",
    "\n",
    "employee_data = pd.DataFrame({\n",
    "    'ID': [1, 2, 3, 4],\n",
    "    'Name': ['Alice', 'Bob', 'Charlie', 'Dana'],\n",
    "    'Age': [25, 30, 28, 35],\n",
    "    'Gender': ['Female', 'Male', 'Male', 'Female'],\n",
    "    'City': ['New York', 'London', 'Paris', 'Berlin']\n",
    "})\n",
    "print(employee_data)"
   ]
  },
  {
   "cell_type": "code",
   "execution_count": 23,
   "metadata": {},
   "outputs": [
    {
     "name": "stdout",
     "output_type": "stream",
     "text": [
      "a) There are 4 unique cities represented in this table.\n"
     ]
    }
   ],
   "source": [
    "unique_cities = employee_data['City'].unique()\n",
    "num_unique_cities = len(unique_cities)\n",
    "print(f\"a) There are {num_unique_cities} unique cities represented in this table.\")"
   ]
  },
  {
   "cell_type": "code",
   "execution_count": 24,
   "metadata": {},
   "outputs": [
    {
     "name": "stdout",
     "output_type": "stream",
     "text": [
      "b) The average age of the individuals in the table is 29.50.\n"
     ]
    }
   ],
   "source": [
    "average_age = employee_data['Age'].mean()\n",
    "print(f\"b) The average age of the individuals in the table is {average_age:.2f}.\")"
   ]
  },
  {
   "cell_type": "code",
   "execution_count": 28,
   "metadata": {},
   "outputs": [
    {
     "name": "stdout",
     "output_type": "stream",
     "text": [
      "c) There are 2 males and 2 females in the table.\n"
     ]
    }
   ],
   "source": [
    "num_males = employee_data[employee_data['Gender'] == 'Male'].shape[0]\n",
    "num_females = employee_data[employee_data['Gender'] == 'Female'].shape[0]\n",
    "print(f\"c) There are {num_males} males and {num_females} females in the table.\")"
   ]
  },
  {
   "cell_type": "code",
   "execution_count": 29,
   "metadata": {},
   "outputs": [
    {
     "name": "stdout",
     "output_type": "stream",
     "text": [
      "d) The oldest person in the table is Dana.\n"
     ]
    }
   ],
   "source": [
    "oldest_person = employee_data.loc[employee_data['Age'].idxmax(), 'Name']\n",
    "print(f\"d) The oldest person in the table is {oldest_person}.\")"
   ]
  },
  {
   "cell_type": "code",
   "execution_count": 32,
   "metadata": {},
   "outputs": [
    {
     "name": "stdout",
     "output_type": "stream",
     "text": [
      "e) The city with the highest number of individuals is New York.\n"
     ]
    }
   ],
   "source": [
    "city_counts = employee_data['City'].value_counts()\n",
    "most_populated_city = city_counts.idxmax()\n",
    "print(f\"e) The city with the highest number of individuals is {most_populated_city}.\")"
   ]
  },
  {
   "cell_type": "code",
   "execution_count": null,
   "metadata": {},
   "outputs": [],
   "source": []
  }
 ],
 "metadata": {
  "kernelspec": {
   "display_name": "Python 3",
   "language": "python",
   "name": "python3"
  },
  "language_info": {
   "codemirror_mode": {
    "name": "ipython",
    "version": 3
   },
   "file_extension": ".py",
   "mimetype": "text/x-python",
   "name": "python",
   "nbconvert_exporter": "python",
   "pygments_lexer": "ipython3",
   "version": "3.11.5"
  }
 },
 "nbformat": 4,
 "nbformat_minor": 2
}
