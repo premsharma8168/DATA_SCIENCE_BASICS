{
 "cells": [
  {
   "cell_type": "code",
   "execution_count": 2,
   "metadata": {},
   "outputs": [
    {
     "name": "stdout",
     "output_type": "stream",
     "text": [
      "   ID Product  Quantity  Price_per_Unit\n",
      "0   1   Apple       100             2.5\n",
      "1   2  Banana       150             1.8\n",
      "2   3  Orange       120             3.0\n",
      "3   4   Mango        80             2.7\n"
     ]
    }
   ],
   "source": [
    "import pandas as pd\n",
    "product_sales = pd.DataFrame({\n",
    "    'ID': [1, 2, 3, 4],\n",
    "    'Product': ['Apple', 'Banana', 'Orange', 'Mango'],\n",
    "    'Quantity': [100, 150, 120, 80],\n",
    "    'Price_per_Unit': [2.5, 1.8, 3.0, 2.7]\n",
    "})\n",
    "print(product_sales)"
   ]
  },
  {
   "cell_type": "code",
   "execution_count": 6,
   "metadata": {},
   "outputs": [
    {
     "name": "stdout",
     "output_type": "stream",
     "text": [
      "\n",
      "Total revenue for each product:\n",
      "  Product  Total_Revenue\n",
      "0   Apple          250.0\n",
      "1  Banana          270.0\n",
      "2  Orange          360.0\n",
      "3   Mango          216.0\n",
      "\n"
     ]
    }
   ],
   "source": [
    "product_sales['Total_Revenue'] = product_sales['Quantity'] * product_sales['Price_per_Unit']\n",
    "print(f'''\n",
    "Total revenue for each product:\n",
    "{product_sales[['Product', 'Total_Revenue']]}\n",
    "''')"
   ]
  },
  {
   "cell_type": "code",
   "execution_count": 9,
   "metadata": {},
   "outputs": [
    {
     "name": "stdout",
     "output_type": "stream",
     "text": [
      "Product with the highest total revenue:\n",
      "ID                     3\n",
      "Product           Orange\n",
      "Quantity             120\n",
      "Price_per_Unit       3.0\n",
      "Total_Revenue      360.0\n",
      "Name: 2, dtype: object\n",
      "\n",
      "4\n"
     ]
    }
   ],
   "source": [
    "print(f'''Product with the highest total revenue:\n",
    "{product_sales.loc[product_sales['Total_Revenue'].idxmax()]}\n",
    "''')\n",
    "print(product_sales['Product'].nunique())"
   ]
  },
  {
   "cell_type": "code",
   "execution_count": 5,
   "metadata": {},
   "outputs": [
    {
     "name": "stdout",
     "output_type": "stream",
     "text": [
      "\n",
      "Average price per unit:\n",
      "2.5\n"
     ]
    }
   ],
   "source": [
    "\n",
    "\n",
    "print(\"\\nAverage price per unit:\")\n",
    "print(product_sales['Price_per_Unit'].mean())\n"
   ]
  },
  {
   "cell_type": "code",
   "execution_count": 6,
   "metadata": {},
   "outputs": [
    {
     "name": "stdout",
     "output_type": "stream",
     "text": [
      "\n",
      "Total quantity of all products sold:\n",
      "450\n"
     ]
    }
   ],
   "source": [
    "\n",
    "\n",
    "print(\"\\nTotal quantity of all products sold:\")\n",
    "print(product_sales['Quantity'].sum())\n"
   ]
  },
  {
   "cell_type": "code",
   "execution_count": 7,
   "metadata": {},
   "outputs": [
    {
     "name": "stdout",
     "output_type": "stream",
     "text": [
      "\n",
      "Number of different types of products:\n"
     ]
    }
   ],
   "source": [
    "\n",
    "print(\"\\nNumber of different types of products:\")\n"
   ]
  },
  {
   "cell_type": "code",
   "execution_count": null,
   "metadata": {},
   "outputs": [],
   "source": []
  }
 ],
 "metadata": {
  "kernelspec": {
   "display_name": "Python 3",
   "language": "python",
   "name": "python3"
  },
  "language_info": {
   "codemirror_mode": {
    "name": "ipython",
    "version": 3
   },
   "file_extension": ".py",
   "mimetype": "text/x-python",
   "name": "python",
   "nbconvert_exporter": "python",
   "pygments_lexer": "ipython3",
   "version": "3.11.5"
  }
 },
 "nbformat": 4,
 "nbformat_minor": 2
}
