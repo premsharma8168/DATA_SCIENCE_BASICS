{
 "cells": [
  {
   "cell_type": "code",
   "execution_count": 10,
   "metadata": {},
   "outputs": [
    {
     "name": "stdout",
     "output_type": "stream",
     "text": [
      "   ID     Name  Math_score  Science_score\n",
      "0   1    Alice          85             90\n",
      "1   2      Bob          75             85\n",
      "2   3  Charlie          90             80\n",
      "3   4     Dana          80             95\n"
     ]
    }
   ],
   "source": [
    "import pandas as pd\n",
    "\n",
    "student_score = pd.DataFrame({\n",
    "    'ID': [1, 2, 3, 4],\n",
    "    'Name': ['Alice', 'Bob', 'Charlie', 'Dana'],\n",
    "    'Math_score': [85, 75, 90, 80],\n",
    "    'Science_score': [90, 85, 80, 95]\n",
    "})\n",
    "print(student_score)"
   ]
  },
  {
   "cell_type": "code",
   "execution_count": 11,
   "metadata": {},
   "outputs": [
    {
     "name": "stdout",
     "output_type": "stream",
     "text": [
      "a) The average math score of students in the table is 82.50.\n"
     ]
    }
   ],
   "source": [
    "average_math_score = student_score['Math_score'].mean()\n",
    "print(f\"a) The average math score of students in the table is {average_math_score:.2f}.\")"
   ]
  },
  {
   "cell_type": "code",
   "execution_count": 15,
   "metadata": {},
   "outputs": [
    {
     "name": "stdout",
     "output_type": "stream",
     "text": [
      "b) The highest science score is: 95\n"
     ]
    }
   ],
   "source": [
    "highest_science_score = student_score['Science_score'].max()\n",
    "print(f\"b) The highest science score is: {highest_science_score}\")\n"
   ]
  },
  {
   "cell_type": "code",
   "execution_count": 18,
   "metadata": {},
   "outputs": [
    {
     "name": "stdout",
     "output_type": "stream",
     "text": [
      "c) The total scores for each student are:\n",
      "      Name  Total_Score\n",
      "0    Alice          175\n",
      "1      Bob          160\n",
      "2  Charlie          170\n",
      "3     Dana          175\n"
     ]
    }
   ],
   "source": [
    "student_score['Total_Score'] = student_score['Math_score'] + student_score['Science_score']\n",
    "print(\"c) The total scores for each student are:\")\n",
    "print(student_score[['Name', 'Total_Score']])"
   ]
  },
  {
   "cell_type": "code",
   "execution_count": 23,
   "metadata": {},
   "outputs": [
    {
     "name": "stdout",
     "output_type": "stream",
     "text": [
      "d) The student with the highest total score is: Dana\n"
     ]
    }
   ],
   "source": [
    "highest_total_score = student_score['Total_Score'].max()\n",
    "highest_total_score_student = student_score.loc[student_score['Total_Score'] == highest_total_score, 'Name'].values[1]\n",
    "print(f\"d) The student with the highest total score is: {highest_total_score_student}\")\n"
   ]
  },
  {
   "cell_type": "code",
   "execution_count": 21,
   "metadata": {},
   "outputs": [
    {
     "name": "stdout",
     "output_type": "stream",
     "text": [
      "e) The difference between the average math and science scores is: 5.00\n"
     ]
    }
   ],
   "source": [
    "avg_science_score = student_score['Science_score'].mean()\n",
    "score_diff = avg_science_score - average_math_score\n",
    "print(f\"e) The difference between the average math and science scores is: {score_diff:.2f}\")"
   ]
  },
  {
   "cell_type": "code",
   "execution_count": null,
   "metadata": {},
   "outputs": [],
   "source": []
  }
 ],
 "metadata": {
  "kernelspec": {
   "display_name": "Python 3",
   "language": "python",
   "name": "python3"
  },
  "language_info": {
   "codemirror_mode": {
    "name": "ipython",
    "version": 3
   },
   "file_extension": ".py",
   "mimetype": "text/x-python",
   "name": "python",
   "nbconvert_exporter": "python",
   "pygments_lexer": "ipython3",
   "version": "3.11.5"
  }
 },
 "nbformat": 4,
 "nbformat_minor": 2
}
