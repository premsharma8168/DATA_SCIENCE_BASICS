{
 "cells": [
  {
   "cell_type": "code",
   "execution_count": 43,
   "metadata": {},
   "outputs": [],
   "source": [
    "class array:\n",
    "    def __init__(self , lst , r=0 , c=0):\n",
    "        self.lst = lst\n",
    "        self.r = r\n",
    "        self.c = c\n",
    "        if r != 0 and c !=0:\n",
    "            M = []\n",
    "            tmp = []\n",
    "            for i in self.lst:\n",
    "                tmp.append(i)\n",
    "                if len(tmp)==c:\n",
    "                    M.append(tmp)\n",
    "                    tmp=[]\n",
    "            self.lst = M\n",
    "\n",
    "\n",
    "    def __add__(self , other):\n",
    "        if (self.r , self.c) == (other.r , other.c):\n",
    "            M = eval(str([[0] * self.c] * self.r))   #[0 , 0 , 0]\n",
    "            for i in range(self.r):\n",
    "                for j in range(self.c):\n",
    "                    M[i][j] = self.lst[i][j] + other.lst[i][j]\n",
    "            return array(M)\n",
    "        else:\n",
    "            print(\"No compatible for Addition...\")\n",
    "\n",
    "\n",
    "    def __sub__(self , other):\n",
    "        if (self.r , self.c) == (other.r , other.c):\n",
    "            M = eval(str([[0] * self.c] * self.r))   #[0 , 0 , 0]\n",
    "            for i in range(self.r):\n",
    "                for j in range(self.c):\n",
    "                    M[i][j] = self.lst[i][j] - other.lst[i][j]\n",
    "            return array(M)\n",
    "        else:\n",
    "            print(\"No compatible for Subtraction...\")\n",
    "\n",
    "    def __mul__(self , other):\n",
    "        if (self.r , self.c) == (other.r , other.c):\n",
    "            M = eval(str([[0] * self.c] * self.r))   #[0 , 0 , 0]\n",
    "            for i in range(self.r):\n",
    "                for j in range(self.c):\n",
    "                    M[i][j] = self.lst[i][j] * other.lst[i][j]\n",
    "            return array(M)\n",
    "        else:\n",
    "            print(\"No compatible for Multiplication...\")\n",
    "    \n",
    "    def dot(self,other):\n",
    "        if self.c==other.r:\n",
    "            M=eval(str([[0]*other.c]*self.r))\n",
    "            for i in range(self.r):\n",
    "                for j in range(self.c):\n",
    "                    for k in range(self.c):\n",
    "                        M[i][j]+= self.lst[i][k] * other.lst[k][j]\n",
    "            return array(M)\n",
    "        else:\n",
    "            print('Dimension is not valid for dot multiplication')\n",
    "\n",
    "    def disp_mat(self):\n",
    "        for i in self.lst:\n",
    "            print(*i, sep=' ')\n",
    "\n",
    "lst1 = list(map(eval , input('Enter the elements for matrix---1').split()))\n",
    "r1 , c1 = list(map(eval , input('Enter the dimension for matrix---1::(m * n)').split()))\n",
    "arr1 = array(lst1 , r1 , c1)\n",
    "\n",
    "lst2 = list(map(eval , input('Enter the elements for matrix---2').split()))\n",
    "r2 , c2 = list(map(eval , input('Enter the dimension for matrix---2::(m * n)').split()))\n",
    "arr2 = array(lst2 , r2 , c2)"
   ]
  },
  {
   "cell_type": "code",
   "execution_count": 38,
   "metadata": {},
   "outputs": [
    {
     "name": "stdout",
     "output_type": "stream",
     "text": [
      "matrix---1\n",
      "1 1\n",
      "1 1\n",
      " \n",
      "---------------------------\n",
      " \n",
      "matrix---2\n",
      "1 1\n",
      "1 1\n",
      "1 1\n"
     ]
    }
   ],
   "source": [
    "print('matrix---1')\n",
    "arr1.disp_mat()\n",
    "print(' ')\n",
    "print('---------------------------')\n",
    "print(' ')\n",
    "print('matrix---2')\n",
    "arr2.disp_mat()"
   ]
  },
  {
   "cell_type": "code",
   "execution_count": 44,
   "metadata": {},
   "outputs": [
    {
     "name": "stdout",
     "output_type": "stream",
     "text": [
      "Addition of matrix---1 and matrix---2\n",
      "2 2\n",
      "2 2\n"
     ]
    }
   ],
   "source": [
    "out = arr1 + arr2\n",
    "print('Addition of matrix---1 and matrix---2')\n",
    "out.disp_mat()"
   ]
  },
  {
   "cell_type": "code",
   "execution_count": 45,
   "metadata": {},
   "outputs": [
    {
     "name": "stdout",
     "output_type": "stream",
     "text": [
      "Subtraction of matrix---1 and matrix---2\n",
      "0 0\n",
      "0 0\n"
     ]
    }
   ],
   "source": [
    "out = arr1 - arr2\n",
    "print('Subtraction of matrix---1 and matrix---2')\n",
    "out.disp_mat()"
   ]
  },
  {
   "cell_type": "code",
   "execution_count": 46,
   "metadata": {},
   "outputs": [
    {
     "name": "stdout",
     "output_type": "stream",
     "text": [
      "Multiplication of matrix---1 and matrix---2\n",
      "1 1\n",
      "1 1\n"
     ]
    }
   ],
   "source": [
    "out = arr1 * arr2\n",
    "print('Multiplication of matrix---1 and matrix---2')\n",
    "out.disp_mat()"
   ]
  },
  {
   "cell_type": "code",
   "execution_count": 47,
   "metadata": {},
   "outputs": [
    {
     "name": "stdout",
     "output_type": "stream",
     "text": [
      "Dot multiplication of matrix---1 and matrix---2\n",
      "2 2\n",
      "2 2\n"
     ]
    }
   ],
   "source": [
    "out = arr1.dot(arr2)\n",
    "print('Dot multiplication of matrix---1 and matrix---2')\n",
    "out.disp_mat()"
   ]
  }
 ],
 "metadata": {
  "kernelspec": {
   "display_name": "Python 3",
   "language": "python",
   "name": "python3"
  },
  "language_info": {
   "codemirror_mode": {
    "name": "ipython",
    "version": 3
   },
   "file_extension": ".py",
   "mimetype": "text/x-python",
   "name": "python",
   "nbconvert_exporter": "python",
   "pygments_lexer": "ipython3",
   "version": "3.11.5"
  }
 },
 "nbformat": 4,
 "nbformat_minor": 2
}
