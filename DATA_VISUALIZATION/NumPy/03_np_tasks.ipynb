{
 "cells": [
  {
   "cell_type": "code",
   "execution_count": 14,
   "metadata": {},
   "outputs": [
    {
     "name": "stdout",
     "output_type": "stream",
     "text": [
      "[-10.  -8.   4.   3.   2.   1.]\n",
      "Number in input is:  1 2 3 4 -8 -10\n"
     ]
    }
   ],
   "source": [
    "# TASK -----1\n",
    "\n",
    "import numpy as np\n",
    "def array(arr):\n",
    "    return np.array(arr[::-1] , float)\n",
    "num = input('Enter the number. for printing reverse numpy array.')\n",
    "arr = num.strip().split(' ')\n",
    "result = array(arr)\n",
    "print(result)\n",
    "\n",
    "print('Number in input is: ',num)"
   ]
  },
  {
   "cell_type": "code",
   "execution_count": 10,
   "metadata": {},
   "outputs": [
    {
     "name": "stdout",
     "output_type": "stream",
     "text": [
      "[[1 2 3]\n",
      " [4 5 6]\n",
      " [7 8 9]]\n"
     ]
    }
   ],
   "source": [
    "# TASK---2\n",
    "\n",
    "import numpy as np\n",
    "\n",
    "class NumpyArray:\n",
    "    def __init__(self, lst, r=0, c=0):\n",
    "        if r != 0 and c != 0:\n",
    "            self.lst = np.array(lst).reshape(r, c)\n",
    "        else:\n",
    "            self.lst = np.array(lst)\n",
    "\n",
    "    def disp_mat(self):\n",
    "        print(self.lst)\n",
    "# sample numbers / dimension ===>>> 1 2 3 4 5 6 7 8 9 / 3 3\n",
    "lst1 = list(map(eval, input('Enter the elements for matrix---1: ').split()))\n",
    "r1, c1 = list(map(eval, input('Enter the dimension for matrix---1::(m * n)').split()))\n",
    "arr1 = NumpyArray(lst1, r1, c1)\n",
    "arr1.disp_mat()"
   ]
  },
  {
   "cell_type": "code",
   "execution_count": 15,
   "metadata": {},
   "outputs": [
    {
     "name": "stdout",
     "output_type": "stream",
     "text": [
      "[[1. 0. 0.]\n",
      " [0. 1. 0.]\n",
      " [0. 0. 1.]]\n"
     ]
    }
   ],
   "source": [
    "# TASK----3\n",
    "\n",
    "import numpy as np\n",
    "\n",
    "def main_diagonal(n, m):\n",
    "    arr = np.zeros((n, m))\n",
    "    arr[range(n), range(m)] = 1\n",
    "    return arr\n",
    "    \n",
    "n, m = map(int, input('Enter Dimension').strip().split(' '))\n",
    "result = main_diagonal(n, m)\n",
    "print(result)"
   ]
  },
  {
   "cell_type": "code",
   "execution_count": 16,
   "metadata": {},
   "outputs": [
    {
     "name": "stdout",
     "output_type": "stream",
     "text": [
      "Addition (A + B):\n",
      "[[ 6  8 10 12]]\n",
      "------------------------------------------------------\n",
      "Subtraction (A - B):\n",
      "[[-4 -4 -4 -4]]\n",
      "------------------------------------------------------\n",
      "Multiplication (A * B):\n",
      "[[ 5 12 21 32]]\n",
      "------------------------------------------------------\n",
      "Integer Division (A // B):\n",
      "[[0 0 0 0]]\n",
      "------------------------------------------------------\n",
      "Modulus (A % B):\n",
      "[[1 2 3 4]]\n",
      "------------------------------------------------------\n",
      "Power (A ** B):\n",
      "[[    1    64  2187 65536]]\n"
     ]
    }
   ],
   "source": [
    "# TASK----3\n",
    "\n",
    "import numpy as np\n",
    "\n",
    "N, M = map(int, input('Enter Dimension').split())\n",
    "\n",
    "# Take input for arrays A and B\n",
    "A = np.array([list(map(int, input('Enter the number A').split())) for _ in range(N)])\n",
    "B = np.array([list(map(int, input('Enter the number B').split())) for _ in range(N)])\n",
    "\n",
    "# Perform operations\n",
    "print(\"Addition (A + B):\")\n",
    "print(A + B)\n",
    "\n",
    "print('------------------------------------------------------')\n",
    "\n",
    "print(\"Subtraction (A - B):\")\n",
    "print(A - B)\n",
    "\n",
    "print('------------------------------------------------------')\n",
    "\n",
    "print(\"Multiplication (A * B):\")\n",
    "print(A * B)\n",
    "\n",
    "print('------------------------------------------------------')\n",
    "\n",
    "print(\"Integer Division (A // B):\")\n",
    "print(A // B)\n",
    "\n",
    "print('------------------------------------------------------')\n",
    "\n",
    "print(\"Modulus (A % B):\")\n",
    "print(A % B)\n",
    "\n",
    "print('------------------------------------------------------')\n",
    "\n",
    "print(\"Power (A ** B):\")\n",
    "print(A ** B)"
   ]
  },
  {
   "cell_type": "code",
   "execution_count": 18,
   "metadata": {},
   "outputs": [
    {
     "name": "stdout",
     "output_type": "stream",
     "text": [
      "Transpose of the matrix:\n",
      "[[1 3]\n",
      " [2 4]]\n",
      "------------------------------------------------------\n",
      "Flattened matrix:\n",
      "[1 2 3 4]\n"
     ]
    }
   ],
   "source": [
    "# TASK----3\n",
    "\n",
    "import numpy as np\n",
    "\n",
    "N, M = map(int, input('Enter the Dimension N * M').split())\n",
    "\n",
    "matrix = np.array([list(map(int, input('Take input for Number').split())) for _ in range(N)])\n",
    "\n",
    "print(\"Transpose of the matrix:\")\n",
    "print(matrix.T)\n",
    "\n",
    "print('------------------------------------------------------')\n",
    "\n",
    "print(\"Flattened matrix:\")\n",
    "print(matrix.flatten())"
   ]
  },
  {
   "cell_type": "markdown",
   "metadata": {},
   "source": []
  }
 ],
 "metadata": {
  "kernelspec": {
   "display_name": "Python 3",
   "language": "python",
   "name": "python3"
  },
  "language_info": {
   "codemirror_mode": {
    "name": "ipython",
    "version": 3
   },
   "file_extension": ".py",
   "mimetype": "text/x-python",
   "name": "python",
   "nbconvert_exporter": "python",
   "pygments_lexer": "ipython3",
   "version": "3.11.5"
  }
 },
 "nbformat": 4,
 "nbformat_minor": 2
}
